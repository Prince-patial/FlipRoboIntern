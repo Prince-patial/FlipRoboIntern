{
 "cells": [
  {
   "cell_type": "markdown",
   "metadata": {},
   "source": [
    "# Q1: Write a python program to scrape data for “Data Analyst” Job position in “Bangalore” location. You have to scrape the job-title, job-location, company_name, experience_required. You have to scrape first 10 jobs data.\n",
    "This task will be done in following steps:\n",
    "1. first get the webpage https://www.naukri.com/\n",
    "2. Enter “Data Analyst” in “Skill,Designations,Companies” field and enter “Bangalore” in “enter the location” field.\n",
    "3. Then click the search button.\n",
    "4. Then scrape the data for the first 10 jobs results you get.\n",
    "5. Finally create a dataframe of the scraped data.\n",
    "Note- All of the above steps have to be done in code. No step is to be done manually."
   ]
  },
  {
   "cell_type": "code",
   "execution_count": 1,
   "metadata": {},
   "outputs": [
    {
     "name": "stdout",
     "output_type": "stream",
     "text": [
      "Requirement already satisfied: selenium in c:\\users\\prince\\anaconda3\\lib\\site-packages (3.141.0)\n",
      "Requirement already satisfied: urllib3 in c:\\users\\prince\\anaconda3\\lib\\site-packages (from selenium) (1.25.11)\n"
     ]
    }
   ],
   "source": [
    "!pip install selenium  \n"
   ]
  },
  {
   "cell_type": "code",
   "execution_count": 2,
   "metadata": {},
   "outputs": [],
   "source": [
    "#Importing necessary libraries\n",
    "import selenium\n",
    "import time\n",
    "from selenium.common.exceptions import NoSuchElementException # importing Exception\n",
    "from selenium.common.exceptions import ElementClickInterceptedException\n",
    "import pandas as pd\n",
    "from selenium import webdriver # importing webdriver\n",
    "driver = webdriver.Edge(\"msedgedriver.exe\") #Initialising our driver\n"
   ]
  },
  {
   "cell_type": "code",
   "execution_count": 19,
   "metadata": {},
   "outputs": [],
   "source": [
    "url = 'https://www.naukri.com/' # assign web address to our variable\n",
    "driver.get(url) #get webpage\n",
    "search_job = driver.find_element_by_id('qsb-keyword-sugg') # finding web_element for search job\n",
    "search_job.send_keys(\"Data Analyst\") # Typing type of job in search bar\n",
    "search_location = driver.find_element_by_id('qsb-location-sugg') # finding web_element for location\n",
    "search_location.send_keys(\"Bangalore\") # Typing region of job\n",
    "search_btn  = driver.find_element_by_xpath(\"//button[@class = 'btn']\") #getting web element for search button\n",
    "search_btn.click()  # clicking search button"
   ]
  },
  {
   "cell_type": "code",
   "execution_count": 20,
   "metadata": {},
   "outputs": [],
   "source": [
    "\n",
    "job_tag = driver.find_elements_by_xpath(\"//a[@class = 'title fw500 ellipsis']\") # getting tags for all jobs listed\n",
    "# job_tag\n",
    "job = [] # empty list to store our jobs\n",
    "for i in job_tag:\n",
    "    job.append(i.text)\n",
    "job_location = driver.find_elements_by_xpath(\"//li[@class = 'fleft grey-text br2 placeHolderLi location']\") # getting tags for all locations\n",
    "location = [] # empty list to store our jobs locations\n",
    "for i in job_location:\n",
    "    location.append(i.text)\n",
    "comp_name = driver.find_elements_by_xpath(\"//a[@class = 'subTitle ellipsis fleft']\") # getting tags for company names\n",
    "company = [] # empty list to store company names\n",
    "for i in comp_name:\n",
    "    company.append(i.text)\n",
    "exp_req = driver.find_elements_by_xpath(\"//li[@class = 'fleft grey-text br2 placeHolderLi experience']\") # getting tags for Experience required\n",
    "experience = [] # empty list to store Experience required\n",
    "for i in exp_req:\n",
    "    experience.append(i.text)\n"
   ]
  },
  {
   "cell_type": "code",
   "execution_count": 21,
   "metadata": {},
   "outputs": [
    {
     "data": {
      "text/html": [
       "<div>\n",
       "<style scoped>\n",
       "    .dataframe tbody tr th:only-of-type {\n",
       "        vertical-align: middle;\n",
       "    }\n",
       "\n",
       "    .dataframe tbody tr th {\n",
       "        vertical-align: top;\n",
       "    }\n",
       "\n",
       "    .dataframe thead th {\n",
       "        text-align: right;\n",
       "    }\n",
       "</style>\n",
       "<table border=\"1\" class=\"dataframe\">\n",
       "  <thead>\n",
       "    <tr style=\"text-align: right;\">\n",
       "      <th></th>\n",
       "      <th>Jobs</th>\n",
       "      <th>Location</th>\n",
       "      <th>Company</th>\n",
       "      <th>Experience</th>\n",
       "    </tr>\n",
       "  </thead>\n",
       "  <tbody>\n",
       "    <tr>\n",
       "      <th>0</th>\n",
       "      <td>Senior Data Analyst - Einstein Analytics</td>\n",
       "      <td>Hyderabad/Secunderabad, Bangalore/Bengaluru</td>\n",
       "      <td>Enquero</td>\n",
       "      <td>3-5 Yrs</td>\n",
       "    </tr>\n",
       "    <tr>\n",
       "      <th>1</th>\n",
       "      <td>Data Analyst - 0-2 years (6 month contract)</td>\n",
       "      <td>New Delhi, Gurgaon/Gurugram, Chennai, Bangalor...</td>\n",
       "      <td>NIUM INDIA PRIVATE LIMITED</td>\n",
       "      <td>0-2 Yrs</td>\n",
       "    </tr>\n",
       "    <tr>\n",
       "      <th>2</th>\n",
       "      <td>Data Analyst</td>\n",
       "      <td>Bangalore/Bengaluru\\n(WFH during Covid)</td>\n",
       "      <td>CAREERLABS TECHNOLOGIES PRIVATE LIMITED</td>\n",
       "      <td>0-3 Yrs</td>\n",
       "    </tr>\n",
       "    <tr>\n",
       "      <th>3</th>\n",
       "      <td>Data Analyst</td>\n",
       "      <td>Pune, Chennai, Bangalore/Bengaluru</td>\n",
       "      <td>Tata Consultancy Services Ltd.</td>\n",
       "      <td>4-8 Yrs</td>\n",
       "    </tr>\n",
       "    <tr>\n",
       "      <th>4</th>\n",
       "      <td>Senior Data Analyst</td>\n",
       "      <td>Hyderabad/Secunderabad, Pune, Bangalore/Bengal...</td>\n",
       "      <td>Nx-DT</td>\n",
       "      <td>10-16 Yrs</td>\n",
       "    </tr>\n",
       "    <tr>\n",
       "      <th>5</th>\n",
       "      <td>SQL Data Analyst</td>\n",
       "      <td>Bangalore/Bengaluru</td>\n",
       "      <td>NetApp</td>\n",
       "      <td>3-7 Yrs</td>\n",
       "    </tr>\n",
       "    <tr>\n",
       "      <th>6</th>\n",
       "      <td>Senior Business Analyst- Data Science</td>\n",
       "      <td>Bangalore/Bengaluru(Whitefield)</td>\n",
       "      <td>Evalueserve.com Pvt. Ltd</td>\n",
       "      <td>2-7 Yrs</td>\n",
       "    </tr>\n",
       "    <tr>\n",
       "      <th>7</th>\n",
       "      <td>Business/Data Analyst - Colleague Experience &amp;...</td>\n",
       "      <td>Bangalore/Bengaluru</td>\n",
       "      <td>Vmware</td>\n",
       "      <td>3-8 Yrs</td>\n",
       "    </tr>\n",
       "    <tr>\n",
       "      <th>8</th>\n",
       "      <td>Senior Data Analyst</td>\n",
       "      <td>Bangalore/Bengaluru</td>\n",
       "      <td>Telstra India Pvt Ltd</td>\n",
       "      <td>7-8 Yrs</td>\n",
       "    </tr>\n",
       "    <tr>\n",
       "      <th>9</th>\n",
       "      <td>Data Analyst (SQL+Predictive Analytics+ Python)</td>\n",
       "      <td>Bangalore/Bengaluru</td>\n",
       "      <td>AVE-Promagne</td>\n",
       "      <td>1-3 Yrs</td>\n",
       "    </tr>\n",
       "  </tbody>\n",
       "</table>\n",
       "</div>"
      ],
      "text/plain": [
       "                                                Jobs  \\\n",
       "0           Senior Data Analyst - Einstein Analytics   \n",
       "1        Data Analyst - 0-2 years (6 month contract)   \n",
       "2                                       Data Analyst   \n",
       "3                                       Data Analyst   \n",
       "4                                Senior Data Analyst   \n",
       "5                                   SQL Data Analyst   \n",
       "6              Senior Business Analyst- Data Science   \n",
       "7  Business/Data Analyst - Colleague Experience &...   \n",
       "8                                Senior Data Analyst   \n",
       "9    Data Analyst (SQL+Predictive Analytics+ Python)   \n",
       "\n",
       "                                            Location  \\\n",
       "0        Hyderabad/Secunderabad, Bangalore/Bengaluru   \n",
       "1  New Delhi, Gurgaon/Gurugram, Chennai, Bangalor...   \n",
       "2            Bangalore/Bengaluru\\n(WFH during Covid)   \n",
       "3                 Pune, Chennai, Bangalore/Bengaluru   \n",
       "4  Hyderabad/Secunderabad, Pune, Bangalore/Bengal...   \n",
       "5                                Bangalore/Bengaluru   \n",
       "6                    Bangalore/Bengaluru(Whitefield)   \n",
       "7                                Bangalore/Bengaluru   \n",
       "8                                Bangalore/Bengaluru   \n",
       "9                                Bangalore/Bengaluru   \n",
       "\n",
       "                                   Company Experience  \n",
       "0                                  Enquero    3-5 Yrs  \n",
       "1               NIUM INDIA PRIVATE LIMITED    0-2 Yrs  \n",
       "2  CAREERLABS TECHNOLOGIES PRIVATE LIMITED    0-3 Yrs  \n",
       "3           Tata Consultancy Services Ltd.    4-8 Yrs  \n",
       "4                                    Nx-DT  10-16 Yrs  \n",
       "5                                   NetApp    3-7 Yrs  \n",
       "6                 Evalueserve.com Pvt. Ltd    2-7 Yrs  \n",
       "7                                   Vmware    3-8 Yrs  \n",
       "8                    Telstra India Pvt Ltd    7-8 Yrs  \n",
       "9                             AVE-Promagne    1-3 Yrs  "
      ]
     },
     "execution_count": 21,
     "metadata": {},
     "output_type": "execute_result"
    }
   ],
   "source": [
    "#making dataframe for top 10 jobs\n",
    "BDSJ = pd.DataFrame({})\n",
    "BDSJ['Jobs'] = job[:10]\n",
    "BDSJ['Location'] = location[:10]\n",
    "BDSJ['Company'] = company[:10]\n",
    "BDSJ['Experience'] = experience[:10]\n",
    "BDSJ"
   ]
  },
  {
   "cell_type": "code",
   "execution_count": null,
   "metadata": {},
   "outputs": [],
   "source": []
  },
  {
   "cell_type": "code",
   "execution_count": null,
   "metadata": {},
   "outputs": [],
   "source": []
  },
  {
   "cell_type": "code",
   "execution_count": null,
   "metadata": {},
   "outputs": [],
   "source": []
  },
  {
   "cell_type": "code",
   "execution_count": null,
   "metadata": {},
   "outputs": [],
   "source": []
  },
  {
   "cell_type": "code",
   "execution_count": null,
   "metadata": {},
   "outputs": [],
   "source": []
  },
  {
   "cell_type": "code",
   "execution_count": null,
   "metadata": {},
   "outputs": [],
   "source": [
    "\n"
   ]
  },
  {
   "cell_type": "markdown",
   "metadata": {},
   "source": [
    "# Q2: Write a python program to scrape data for “Data Scientist” Job position in \n",
    "“Bangalore” location. You have to scrape the job-title, job-location,\n",
    "company_name, full job-description. You have to scrape first 10 jobs data.\n",
    "This task will be done in following steps:\n",
    "1. first get the webpage https://www.naukri.com/\n",
    "2. Enter “Data Scientist” in “Skill,Designations,Companies” field and enter \n",
    "“Bangalore” in “enter the location” field.\n",
    "3. Then click the search button.\n",
    "4. Then scrape the data for the first 10 jobs results you get.\n",
    "5. Finally create a dataframe of the scraped data.\n",
    "Note- 1. All of the above steps have to be done in code. No step is to be done \n",
    "manually."
   ]
  },
  {
   "cell_type": "code",
   "execution_count": 24,
   "metadata": {},
   "outputs": [],
   "source": [
    "url = 'https://www.naukri.com/' # assign web address to our variable\n",
    "driver.get(url) #get webpage\n",
    "search_job = driver.find_element_by_id('qsb-keyword-sugg') # finding web_element for search job\n",
    "search_job.send_keys(\"Data Scientist\") # Typing type of job in search bar\n",
    "search_location = driver.find_element_by_id('qsb-location-sugg') # finding web_element for location\n",
    "search_location.send_keys(\"Bangalore\") # Typing region of job\n",
    "search_btn  = driver.find_element_by_xpath(\"//button[@class = 'btn']\") #getting web element for search button\n",
    "search_btn.click() # clicking search button"
   ]
  },
  {
   "cell_type": "code",
   "execution_count": 25,
   "metadata": {},
   "outputs": [
    {
     "data": {
      "text/plain": [
       "['Data Scientist- Senior Business Analyst/Lead Analyst',\n",
       " 'Lead Data Scientist - Retail Industry',\n",
       " 'Senior/ Lead Data Scientist',\n",
       " 'Data Scientist: Advanced Analytics',\n",
       " 'Senior Data Scientist',\n",
       " 'Lead Data Scientist',\n",
       " 'Senior Data Scientist',\n",
       " 'Senior Data Scientist / Tech Lead - Data Science',\n",
       " 'Senior Data Scientist - KPO',\n",
       " 'Data Scientist',\n",
       " 'Data Scientist- Natural Language Processing (Hyderabad Location)',\n",
       " 'Looking For Data Scientist For Chennai Location',\n",
       " 'Data Scientist',\n",
       " 'Data Scientist: Artificial Intelligence',\n",
       " 'Data Scientist: Advanced Analytics',\n",
       " 'Data Scientist: Artificial Intelligence',\n",
       " 'Data Scientist',\n",
       " 'Data Scientist: Artificial Intelligence',\n",
       " 'Data Scientist - SQL/R/Python',\n",
       " 'Senior Data Scientist']"
      ]
     },
     "execution_count": 25,
     "metadata": {},
     "output_type": "execute_result"
    }
   ],
   "source": [
    "jobs_tag = driver.find_elements_by_xpath(\"//a[@class = 'title fw500 ellipsis']\") # getting tags for our jobs\n",
    "job_title = [] # empty list to store job titles\n",
    "for i in jobs_tag:\n",
    "    job_title.append(i.text)\n",
    "job_title"
   ]
  },
  {
   "cell_type": "code",
   "execution_count": 1,
   "metadata": {},
   "outputs": [],
   "source": [
    "# jobs_tag = driver.find_elements_by_xpath(\"//a[@class = 'title fw500 ellipsis']\")\n",
    "# job_title = []\n",
    "# for i in jobs_tag:\n",
    "#     job_title.append(i.text)\n",
    "#     desciption_tag = driver.find_elements_by_tag_name\n",
    "# job_title"
   ]
  },
  {
   "cell_type": "code",
   "execution_count": 26,
   "metadata": {},
   "outputs": [],
   "source": [
    "#You have to scrape the job-title, job-location, company_name, full job-description"
   ]
  },
  {
   "cell_type": "code",
   "execution_count": 27,
   "metadata": {},
   "outputs": [
    {
     "data": {
      "text/plain": [
       "['Gurgaon/Gurugram, Bangalore/Bengaluru',\n",
       " 'Bangalore/Bengaluru',\n",
       " 'Bangalore/Bengaluru',\n",
       " 'Bangalore/Bengaluru',\n",
       " 'Bangalore/Bengaluru',\n",
       " 'Bangalore/Bengaluru',\n",
       " 'Bangalore/Bengaluru',\n",
       " 'Bangalore/Bengaluru, Delhi / NCR',\n",
       " 'Mumbai, Bangalore/Bengaluru, Delhi / NCR',\n",
       " 'Bangalore/Bengaluru',\n",
       " 'Hyderabad/Secunderabad, Pune, Chennai, Bangalore/Bengaluru',\n",
       " 'Hyderabad/Secunderabad, Chennai, Bangalore/Bengaluru',\n",
       " 'Chennai, Bangalore/Bengaluru',\n",
       " 'Bangalore/Bengaluru',\n",
       " 'Bangalore/Bengaluru',\n",
       " 'Bangalore/Bengaluru',\n",
       " 'Bangalore/Bengaluru',\n",
       " 'Bangalore/Bengaluru',\n",
       " 'Bangalore/Bengaluru',\n",
       " 'Bangalore/Bengaluru']"
      ]
     },
     "execution_count": 27,
     "metadata": {},
     "output_type": "execute_result"
    }
   ],
   "source": [
    "job_info = driver.find_elements_by_xpath(\"//li[@class= 'fleft grey-text br2 placeHolderLi location']\")\n",
    "location = []\n",
    "locations = []\n",
    "for i in job_info:\n",
    "    location.append(i.text)\n",
    "location\n",
    "# for i in range(2,15,3):\n",
    "#     locations.append(location[i].strip())\n",
    "# for i in range(18,len(location),3):\n",
    "#     locations.append(location[i].strip())\n",
    "# locations"
   ]
  },
  {
   "cell_type": "code",
   "execution_count": 28,
   "metadata": {},
   "outputs": [
    {
     "data": {
      "text/plain": [
       "['Evalueserve.com Pvt. Ltd',\n",
       " 'IBM India Pvt. Limited',\n",
       " 'Superior Group',\n",
       " 'IBM India Pvt. Limited',\n",
       " 'Cognizer India Private Limited',\n",
       " 'Zycus Infotech Pvt Ltd',\n",
       " 'Philips India Limited',\n",
       " 'Confidential',\n",
       " 'TalentCo Search Pvt Ltd',\n",
       " 'Travel Centric Technology',\n",
       " 'Clifford Chance Business Services Private Limited',\n",
       " 'Intelizign Engineering Services Pvt Ltd',\n",
       " 'Cognizant Technology Solutions India Pvt Ltd',\n",
       " 'IBM India Pvt. Limited',\n",
       " 'IBM India Pvt. Limited',\n",
       " 'IBM India Pvt. Limited',\n",
       " 'Oracle India Pvt. Ltd.',\n",
       " 'IBM India Pvt. Limited',\n",
       " 'iMindYourBusiness',\n",
       " 'SYMBIOSIS International W.L.L']"
      ]
     },
     "execution_count": 28,
     "metadata": {},
     "output_type": "execute_result"
    }
   ],
   "source": [
    "comp_name = driver.find_elements_by_xpath(\"//a[@class = 'subTitle ellipsis fleft']\")\n",
    "company = []\n",
    "for i in comp_name:\n",
    "    company.append(i.text)\n",
    "company"
   ]
  },
  {
   "cell_type": "code",
   "execution_count": 30,
   "metadata": {},
   "outputs": [],
   "source": [
    "#Fetching URLs\n",
    "urls = [] # empty list to store URL\n",
    "for i in driver.find_elements_by_xpath(\"//a[@class = 'title fw500 ellipsis']\"):\n",
    "    urls.append(i.get_attribute(\"href\"))"
   ]
  },
  {
   "cell_type": "code",
   "execution_count": 31,
   "metadata": {},
   "outputs": [],
   "source": [
    "driver.find_element_by_xpath(\"//span[@title = '0-3 Lakhs']\").click() # selecting desired filter"
   ]
  },
  {
   "cell_type": "code",
   "execution_count": 32,
   "metadata": {},
   "outputs": [
    {
     "data": {
      "text/plain": [
       "20"
      ]
     },
     "execution_count": 32,
     "metadata": {},
     "output_type": "execute_result"
    }
   ],
   "source": [
    "len(urls) # checking the lenth of list"
   ]
  },
  {
   "cell_type": "code",
   "execution_count": 33,
   "metadata": {},
   "outputs": [
    {
     "data": {
      "text/plain": [
       "['https://www.naukri.com/job-listings-data-scientist-senior-business-analyst-lead-analyst-evalueserve-com-pvt-ltd-gurgaon-gurugram-bangalore-bengaluru-2-to-7-years-110821005065?src=jobsearchDesk&sid=16287522317295263&xp=1&px=1',\n",
       " 'https://www.naukri.com/job-listings-lead-data-scientist-retail-industry-ibm-india-pvt-limited-bangalore-bengaluru-7-to-10-years-100821908363?src=jobsearchDesk&sid=16287522317295263&xp=2&px=1',\n",
       " 'https://www.naukri.com/job-listings-senior-lead-data-scientist-superior-group-bangalore-bengaluru-6-to-11-years-100821500375?src=jobsearchDesk&sid=16287522317295263&xp=3&px=1',\n",
       " 'https://www.naukri.com/job-listings-data-scientist-advanced-analytics-ibm-india-pvt-limited-bangalore-bengaluru-5-to-10-years-110821906281?src=jobsearchDesk&sid=16287522317295263&xp=4&px=1',\n",
       " 'https://www.naukri.com/job-listings-senior-data-scientist-cognizer-india-private-limited-bangalore-bengaluru-5-to-10-years-100821001616?src=jobsearchDesk&sid=16287522317295263&xp=5&px=1',\n",
       " 'https://www.naukri.com/job-listings-lead-data-scientist-zycus-infotech-pvt-ltd-bangalore-bengaluru-14-to-16-years-100821906533?src=jobsearchDesk&sid=16287522317295263&xp=6&px=1',\n",
       " 'https://www.naukri.com/job-listings-senior-data-scientist-philips-india-limited-bangalore-bengaluru-8-to-10-years-060821501599?src=jobsearchDesk&sid=16287522317295263&xp=7&px=1',\n",
       " 'https://www.naukri.com/job-listings-senior-data-scientist-tech-lead-data-science-confidential-bangalore-bengaluru-delhi-ncr-6-to-9-years-100821906281?src=jobsearchDesk&sid=16287522317295263&xp=8&px=1',\n",
       " 'https://www.naukri.com/job-listings-senior-data-scientist-kpo-talentco-search-pvt-ltd-mumbai-bangalore-bengaluru-delhi-ncr-6-to-10-years-110821908145?src=jobsearchDesk&sid=16287522317295263&xp=9&px=1',\n",
       " 'https://www.naukri.com/job-listings-data-scientist-travel-centric-technology-bangalore-bengaluru-6-to-11-years-110821500209?src=jobsearchDesk&sid=16287522317295263&xp=10&px=1',\n",
       " 'https://www.naukri.com/job-listings-data-scientist-natural-language-processing-hyderabad-location-clifford-chance-business-services-private-limited-hyderabad-secunderabad-pune-chennai-bangalore-bengaluru-5-to-10-years-120821000435?src=jobsearchDesk&sid=16287522317295263&xp=11&px=1',\n",
       " 'https://www.naukri.com/job-listings-looking-for-data-scientist-for-chennai-location-intelizign-engineering-services-pvt-ltd-hyderabad-secunderabad-chennai-bangalore-bengaluru-3-to-7-years-110821004891?src=jobsearchDesk&sid=16287522317295263&xp=12&px=1',\n",
       " 'https://www.naukri.com/job-listings-data-scientist-cognizant-technology-solutions-india-pvt-ltd-chennai-bangalore-bengaluru-10-to-12-years-090821904407?src=jobsearchDesk&sid=16287522317295263&xp=13&px=1',\n",
       " 'https://www.naukri.com/job-listings-data-scientist-artificial-intelligence-ibm-india-pvt-limited-bangalore-bengaluru-4-to-6-years-110821906941?src=jobsearchDesk&sid=16287522317295263&xp=14&px=1',\n",
       " 'https://www.naukri.com/job-listings-data-scientist-advanced-analytics-ibm-india-pvt-limited-bangalore-bengaluru-4-to-8-years-110821906897?src=jobsearchDesk&sid=16287522317295263&xp=15&px=1',\n",
       " 'https://www.naukri.com/job-listings-data-scientist-artificial-intelligence-ibm-india-pvt-limited-bangalore-bengaluru-4-to-8-years-110821906005?src=jobsearchDesk&sid=16287522317295263&xp=16&px=1',\n",
       " 'https://www.naukri.com/job-listings-data-scientist-oracle-india-pvt-ltd-bangalore-bengaluru-6-to-10-years-190521008276?src=jobsearchDesk&sid=16287522317295263&xp=17&px=1',\n",
       " 'https://www.naukri.com/job-listings-data-scientist-artificial-intelligence-ibm-india-pvt-limited-bangalore-bengaluru-4-to-8-years-110821906380?src=jobsearchDesk&sid=16287522317295263&xp=18&px=1',\n",
       " 'https://www.naukri.com/job-listings-data-scientist-sql-r-python-imindyourbusiness-bangalore-bengaluru-4-to-8-years-110821900877?src=jobsearchDesk&sid=16287522317295263&xp=19&px=1',\n",
       " 'https://www.naukri.com/job-listings-senior-data-scientist-symbiosis-international-w-l-l-bangalore-bengaluru-10-to-15-years-050821004331?src=jobsearchDesk&sid=16287522317295263&xp=20&px=1']"
      ]
     },
     "execution_count": 33,
     "metadata": {},
     "output_type": "execute_result"
    }
   ],
   "source": [
    "urls"
   ]
  },
  {
   "cell_type": "code",
   "execution_count": 34,
   "metadata": {},
   "outputs": [],
   "source": [
    "job_description = [] # empty list to store job description\n",
    "for i in urls[:10]:\n",
    "    driver.get(i)\n",
    "    try:\n",
    "        job_desc = driver.find_element_by_xpath(\"//section[@class = 'job-desc']\")\n",
    "        job_description.append(job_desc.text)\n",
    "    except:\n",
    "        job_description.append('--')\n",
    "    "
   ]
  },
  {
   "cell_type": "code",
   "execution_count": 35,
   "metadata": {},
   "outputs": [
    {
     "name": "stdout",
     "output_type": "stream",
     "text": [
      "10\n"
     ]
    }
   ],
   "source": [
    "print(len(job_description)) # printing lenth of our list"
   ]
  },
  {
   "cell_type": "code",
   "execution_count": 36,
   "metadata": {},
   "outputs": [
    {
     "data": {
      "text/plain": [
       "['Job description\\nJob Description\\nUnderstand and design analytical solutions to business problems leveraging data science\\nUnderstand and get requirements from Stakeholders\\nPropose and execute solutions and present deliverables to stakeholders\\nManage and optimize deliverables\\nMentor and train new team members\\nDevelop POCs to enhance the teams capability\\n\\nRequirements\\nUnderstanding of mathematical, statistical, and theoretical foundations of statistics and machine learning (ML) and parametric and non-parametric models\\nKnowledge of advanced data mining techniques, curating, processing, and transforming data to produce datasets\\nUse statistical techniques and ML methods for predictive modeling / classification of problems around clients, distribution, sales, marketing, client profiles, and segmentation\\nProvide relevant and actionable recommendations / insights for businesses\\nUnderstanding of ML lifecycle that includes feature engineering, training, validation, scaling, deployment, scoring, monitoring, and feedback loop\\nExpertise in SAS Visual Analytics, Tableau, and Python\\nExpert in Python / R / SAS\\nExperience with cloud computing infrastructure, such as AWS / Azure / GCP\\nAble to develop, test, and deploy models on cloud / web\\n\\nEducation and Experience\\nBE / B.Tech. / MBA / M.Stat. / M.SC. or equivalent degree in Quant. from a reputed institute\\n2-8 years of relevant experience\\n\\nRoleBusiness Analyst\\nIndustry TypeAnalytics / KPO / Research\\nFunctional AreaAnalytics & Business Intelligence\\nEmployment TypeFull Time, Permanent\\nRole CategoryAnalytics & BI\\nEducation\\nUG :B.Tech/B.E. in Any Specialization\\nKey Skills\\nPredictive ModelingData ScienceRMarketing Mix ModelingData MiningMarketing AnalyticsMachine LearningPythonSales Analytics',\n",
       " '--',\n",
       " 'Job description\\nProvide advanced analytical capabilities to support data science initiatives\\nSolves highly complex problems that do not yet have solutions in the research and span much of the Data Science portfolio\\nInfluences the thought process and methodology for other team members\\nJob Requirements\\nSkill seet required:\\n6+ years of experience in analytics AND 2 years of programming experience (Python, Java, Scala, Rust, etc.)\\n3 years of experience performing predictive analytics at a large scale enterprise\\n3 years of experience in data science or advanced analytics in industry\\nSQL Experience\\nExperience using multiple data systems and sources (such as Hadoop, Spark, Aster, Teradata, etc.)\\nRoleTeam Lead/Technical Lead\\nIndustry TypeRecruitment / Staffing\\nFunctional AreaIT Software - Application Programming, Maintenance\\nEmployment TypeFull Time, Permanent\\nRole CategoryProgramming & Design\\nEducation\\nUG :B.Tech/B.E. in Any Specialization\\nPG :Any Postgraduate\\nKey Skills\\nadvanced analyticsdata scienceAnalyticalSCALALeadTeradataPredictive analyticsLead managementSQLPython',\n",
       " '--',\n",
       " 'Job description\\n\\nRoles and Responsibilities\\nStrong in problem solving, algorithms and data structures\\nProficient in Python\\nHands on experience in technologies and tools related NLP, Deep learning, Machine learning\\nExperience on Conversational AI is a plus\\nAble to train and deploy models. Hands on experience on multi gpu/ tpu training\\nBroad knowledge of machine learning algorithms and principles\\nPerformance profiling and Tuning\\nCommunicate and propose solutions to business challenges\\nFamiliarity with at least one of the cloud computing infrastructure - GCP/AWS\\nKeep abreast with the latest technological advances\\nTeam mentoring and leadership skills\\n\\nDesired Candidate Profile\\n\\nNo. of opening: 01\\nExperience Required : 05 years and above\\nEducational Qualification: B.E/ B.Tech from Top Tier institutes ( IIT, BITS and NITs)\\nExperience with Product company\\nMust be interested to work in a fast pace startup culture\\n\\nPerks and Benefits\\nMedical coverage for Self and Family\\nProvident Fund\\nStock Options\\nLearning Program\\n\\nRoleR&D Executive\\nIndustry TypeIT Services & Consulting\\nFunctional AreaEngineering Design, R&D\\nEmployment TypeFull Time, Permanent\\nRole CategoryR&D\\nEducation\\nUG :B.Tech/B.E. in Computers\\nKey Skills\\nNLPDeep LearningPython\\nAlgorithmsCloud ComputingGCPArtificial IntelligenceData StructuresNatural Language ProcessingMachine LearningAWS\\nSkills highlighted with ‘‘ are preferred keyskills',\n",
       " 'Job description\\nZycus is looking for applicants with a strong background in Analytics and Data mining (Web, Social and Big data), Machine Learning, Pattern Recognition, Natural Language Processing, Computational Linguistics, Statistical Modelling, Inferencing, Information Retrieval, Large Scale Distributed Systems, Cloud Computing, Econometrics, Quantitative Marketing, Applied Game Theory, Mechanism Design, Operations Research, Optimization, Human Computer Interaction and Information Visualization. Applicants with a background in other quantitative areas are also encouraged to apply.\\n\\nWe are looking for someone who can create and implement AI solutions. If you have built a product like IBM WATSON in the past and not just used WATSON to build applications, this could be the perfect role for you.\\n\\nAll successful candidates are expected to dive deep into problem areas of Zycus interest and invent technology solutions to not only advance the current products, but also to generate new product options that can strategically advantage the organization.\\n\\nRoles & Responsibilities:\\nAct as a technical thought leader in collaboration with the analytics leadership team, helping to set the strategy and standards for Machine Learning and advanced analytics\\nWork with senior leaders from all functions to explore opportunities for using advance analytics\\nProvide technical leadership, coaching, and mentoring to talented data scientists and analytics professionals\\nGuide data scientists in the use of advanced statistical, machine learning, and artificial intelligence methodologies\\nGuide the work of other Machine learning team members to provide support and assistance, while also ensuring quality\\n\\nRequirements\\n\\nSkills:\\nExperience in predictive modelling and predictive software development\\nSkilled at Java, C++, Perl/Python (or similar scripting languages)\\nExperience in using R, Matlab, or any other statistical software\\nExperience in mentoring junior team members, and guiding them on machine learning and data modelling applications\\nStrong communication and data presentation skills\\nClassification (svm, decision tree, random forest, neural network)\\nRegression (linear, polynomial, logistic, etc)\\nClassical Optimization(gradient descent, newton raphson, etc)\\nGraph theory (network analytics)\\nHeuristic Optimisation (genetic algorithm, swarm theory)\\nDeep learning (lstm, convolutional nn, recurrent nn)\\n\\nMust Have:\\nTotal experience: 14+ years\\nThe ideal candidate must have proven expertise in Artificial Intelligence (including deep learning algorithms), Machine Learning and/or NLP\\nThe candidate must also have expertise in programming traditional machine learning algorithms, algorithm design & usage\\nProgramming expertise on Python or R\\nPreferred experience with large data sets & distributed computing in Hadoop ecosystem\\nStrong problem-solving skills\\nFluency with databases\\n\\nBenefits\\nFive Reasons Why You Should Join Zycus\\nCloud Product Company: We are a Cloud SaaS Company and our products are created by using the latest technologies like ML and AI. Our UI is in Angular JS and we are developing our mobile apps using React.\\nA Market Leader: Zycus is recognized by Gartner (worlds leading market research analyst) as a Leader in Procurement Software Suites.\\nMove between Roles: We believe that change leads to growth and therefore we allow our employees to shift careers and move to different roles and functions within the organization\\nGet a Global Exposure: You get to work and deal with our global customers.\\nCreate an Impact: Zycus gives you the environment to create an impact on the product and transform your ideas into reality. Even our junior engineers get the opportunity to work on different product features.\\nRoleAnalytics Manager\\nIndustry TypeIT Services & Consulting\\nFunctional AreaAnalytics & Business Intelligence\\nEmployment TypeFull Time, Permanent\\nRole CategoryAnalytics & BI\\nEducation\\nUG :Any Graduate\\nPG :Any Postgraduate\\nKey Skills\\nRAlgorithmsNLPAlgorithm DesignData ScientistArtificial IntelligenceMachine LearningPythonRandom Forest',\n",
       " 'Job description\\n  Be a part of the Enterprise IT , Information and Data Science team and drive a strategic and actionable Data Science architecture to activate the needed business capabilities. Deliver business use cases like Care Provider (Customer, Product , IB ) 360 initiative, Product bundling , Value Based pricing , Conversational AI, Indirect Trade partner classification , Data pipeline predictions etc - an ambition to better understand the needs of Healthcare Providers, the way Philips serves its customers and how and where Philips can add value to the customer decision journey.\\nYour responsibilities\\nEnsure strategic direction for data science capabilities for Philips is created and kept up to date on a regular basis\\nContinuously evaluate the latest techniques in Artificial intelligence, machine learning, robotics, statistical analysis\\nImplement advanced algorithms for business problems based on statistical analysis, coding, deep learning, advanced data mining techniques etc.\\nDevelop new algorithms if necessary, to bring predictive, advanced statistics / learning based solutions\\nDevelop algorithms to further automate processes and feed insights back into PIL for better business outcome\\nCo-create with business / market / functions or IT platforms on requirements\\nEnsure quality of data and solution developed\\nLead and drive data mining, creating algorithms, collection of data, collection of procedures during the design, build phases of a project\\nLead and drive in deploy and testing of the solutions and insights\\nSpot and evaluate emerging/cutting edge, open source, data science/machine learning libraries\\nYou are part of:\\nYou will be part of Group IT , Information and Data Management team that drives business impact through Data Science and Advanced analytics. A team that instigates collaboration across diverse teams globally to manage Data as an asset at Philips.\\nCore competencies needed to be successful:\\nA Master s Degree or PhD in Computer Science, Econometrics, Artificial Intelligence, Applied Mathematics, Statistics or equivalent;\\n8-10 years of overall experience in data science, data analytics roles\\n8+ years of experience in multiple of machine learning, data mining, deep learning, artificial intelligence, pattern recognition areas\\nExperience in driving implementation of solutions, data and algorithms on data warehouse and lakes like Azure , AWS, SQL etc\\nDemonstrable advanced programming experience in Python or another programming language such as Azure ML/R/Python etc ;\\nStrong analytical and social skills and the capability to translate data intelligence into valuable insights for the senior stakeholders in the company\\nAbility to formulate multiple complex business problems into hypothesis and proof of concepts for testing\\nManage Projects and lead a sub-portfolio of data science project teams to deliver results\\nCoach, Guide and direct teams of internal and vendor resources\\nCollaborate across IT platform teams to deploy solutions and drive continuous improvements\\nManage senior stakeholder in the company in a matrix organization i.e. Market / BG / Function leaders\\nRoleBusiness/EDP Analyst\\nIndustry TypeMedical Services / Hospital\\nFunctional AreaITES, BPO, KPO, LPO, Customer Service, Operations\\nEmployment TypeFull Time, Permanent\\nRole CategoryOperations\\nEducation\\nUG :Any Graduate\\nPG :Post Graduation Not Required\\nKey Skills\\nComputer scienceData managementCodingAnalyticalMachine learningHealthcareData miningRoboticsSQLPython',\n",
       " 'Job description\\nResponsibilities -\\nLead a team of data scientists, machine learning engineers and big data specialists\\nBe the main point of contact for the customers\\nLead data mining and collection procedures\\nEnsure data quality and integrity\\nInterpret and analyze data problems\\nConceive, plan and prioritize data projects\\nBuild analytic systems and predictive models\\nTest performance of data-driven products\\nVisualize data and create reports\\nExperiment with new models and techniques\\nAlign data projects with organizational goals\\nRequirements -\\nVery strong in statistics fundamentals. Not all data is Big Data. The candidate should be able to derive statistical insights from very few data points if required, using traditional statistical methods.\\nEducation no bar, but preferably from a Statistics academic background (eg MSc-Stats, MSc-Econometrics etc), given the first point\\nStrong expertise in Python (any other statistical languages/tools like R, SAS, SPSS etc are just optional, but Python is absolutely essential). If the person is very strong in Python, but has almost nil knowledge in the other statistical tools, he/she will still be considered a good candidate for this role.\\nProven experience as a Data Scientist or similar role, for about 7-8 years\\nSolid understanding of machine learning and AI concepts, especially wrt choice of apt candidate algorithms for a use case, and model evaluation.\\nGood expertise in writing SQL queries (should not be dependent upon anyone else for pulling in data, joining them, data wrangling etc)\\nKnowledge of data management and visualization techniques - more from a Data Science perspective.\\nShould be able to grasp business problems, ask the right questions to better understand the problem breadthwise /depthwise, design apt solutions, and explain that to the business stakeholders.\\nQualification\\nAny Relevant Graudate ( BE/B Tech, MCA Prefer)\\nRoleTeam Lead/Technical Lead\\nIndustry TypeIT Services & Consulting\\nFunctional AreaIT Software - DBA, Datawarehousing\\nEmployment TypeFull Time, Permanent\\nRole CategoryProgramming & Design\\nEducation\\nUG :B.Tech/B.E. in Any Specialization, B.Sc in Statistics, B.A in Statistics\\nPG :M.A in Economics, Statistics, MCA in Any Specialization, MS/M.Sc(Science) in Statistics\\nDoctorate :Doctorate Not Required\\nKey Skills\\nData ScienceData WranglingArtificial IntelligenceBig DataSQL QueriesData MiningMachine LearningStatisticsPython',\n",
       " 'Job description\\n- Ability to understand a problem statement and implement analytical solutions & techniques independently with independently/proactively/thought-leadership.\\n\\n- Work with stakeholders throughout the organization to identify opportunities for leveraging company/client data to drive business solutions.\\n\\n- Fast learner: ability to learn and pick up a new language/tool/ platform quickly.\\n\\n- Conceptualize, design, and deliver high-quality solutions and insightful analysis.\\n\\n- Conduct research and prototyping innovations; data and requirements gathering; solution scoping and architecture; consulting clients and client facing teams on advanced statistical and machine learning problems.\\n\\n- Collaborate and Coordinate with different functional teams(engineering and product development) to implement models and monitor outcomes.\\n\\n- Ability to deliver AIML based solutions around a host of domains and problems, with some of them being: Customer Segmentation & Targeting, Propensity Modeling, Churn Modeling, Lifetime Value Estimation, Forecasting, Recommender Systems, Modeling Response to Incentives, Marketing Mix Optimization, Price Optimization\\n\\nExperience Required:\\n\\n- Expert level proficiency in Python.\\n\\n- Ability to create efficient solutions to complex problems. Strong skills in data-structures and ML algorithms.\\n\\n- Experience of working on end-to-end data science pipeline: problem scoping, data gathering, EDA, modelling, insights, visualizations, monitoring and maintenance.\\n\\n- Problem-solving: Ability to break the problem into small parts and applying relevant techniques to drive required outcomes.\\n\\n- Intermediate to advanced knowledge of machine learning, probability theory, statistics, and algorithms. You will be required to discuss and use various algorithms and approaches on a daily basis.\\n\\n- We use regression, Bayesian methods, tree-based learners, SVM, RF, XGBOOST, time series modeling, dimensionality reduction, SEM, GLM, GLMM, clustering, Deep learning etc. on a regular basis. If you know few of them you are good to go.\\n\\nGood to Have:\\n\\n- Experience in one of the upcoming technologies like deep learning, NLP, image processing, recommender systems\\n\\n- Experience of working in on one or more domains:\\n\\n- CPG: pricing and promotion analytics, marketing analytics, trade promotions, supply chain management\\n\\n- BFSI: cross-sell, up-sell, campaign analytics, treasury analytics, fraud detection\\n\\n- Healthcare: medical adherence, medical risk profiling, EHR data, fraud-waste-abuse\\n\\n- Experience in working with Linux computing environment and use of command line tools like sed/awk\\n\\n- Good grasp on databases including RDBMS, NoSQL, MongoDB etc.\\nRoleData Analyst\\nIndustry TypeAnalytics / KPO / Research\\nFunctional AreaAnalytics & Business Intelligence\\nEmployment TypeFull Time, Permanent\\nRole CategoryAnalytics & BI\\nEducation\\nUG :Any Graduate\\nPG :Any Postgraduate\\nDoctorate :Doctorate Not Required\\nKey Skills\\nData ScienceNLPData ScientistArtificial IntelligenceData ManagementStatistical ModelingMarketing AnalyticsMachine LearningAnalyticsSQL',\n",
       " 'Job description\\nWe are looking for a Data Scientist with 6+ years of experience who will support our product and the rest of the company verticals with insights gained from analysing company data.\\nWork with stakeholders throughout the firm to identify opportunities for leveraging company data to drive business solutions.\\nMine and analyse data from company databases, drive optimisation and improvement of product development, marketing techniques and business strategies.\\nAssess the effectiveness and accuracy of new data sources and data gathering techniques.\\nDevelop custom data models and algorithms to apply to data sets.\\nUse predictive modeling to increase and optimise customer experiences, revenue generation, ad targeting and other business outcomes.\\nCoordinate with different functional teams to implement models and monitor outcomes.\\nDevelop processes and tools to monitor and analyse model performance and data accuracy.\\nJob Requirements:\\nExperience using statistical computer languages (R, Python, SLQ, etc.) to manipulate data and draw insights from large data sets.\\nExperience working with and creating data architectures.\\nKnowledge of a variety of machine learning techniques (clustering, decision tree learning, artificial neural networks, etc.) and their real-world advantages/drawbacks.\\nKnowledge of advanced statistical techniques and concepts (regression, properties of distributions, statistical tests and proper usage, etc.) and experience with applications.\\nCoding knowledge and experience with several languages: C#, .Net, Java, Java Scripts etc.\\nBackground in data warehouse design (e.g. dimensional modeling) and data mining.\\nExperience creating and using advanced machine learning algorithms and statistics: regression, simulation, scenario analysis, modeling, clustering, decision trees, neural networks, etc.\\nJob Related Knowledge Skills:\\nTeam player with excellent interpersonal skills.\\nSelf-motivated and independent learner.\\nAbility to handle multiple projects.\\nAbility to identify or uncover patterns, correlations and trends.\\nProven abilities to take initiative and be innovative.\\nAnalytical mind with a problem-solving aptitude.\\nFamiliar with Agile development processes.\\nAbility to communicate effectively in English, both written and verbal.\\nRoleResearch Scientist\\nIndustry TypeIT Services & Consulting\\nFunctional AreaMedical, Healthcare, R&D, Pharmaceuticals, Biotechnology\\nEmployment TypeFull Time, Permanent\\nRole CategoryR&D\\nEducation\\nUG :Any Graduate\\nPG :Any Postgraduate\\nKey Skills\\nSimulationCodingNeural networksAnalyticalAgile developmentMachine learningPredictive modelingData miningBusiness solutionsPython']"
      ]
     },
     "execution_count": 36,
     "metadata": {},
     "output_type": "execute_result"
    }
   ],
   "source": [
    "job_description"
   ]
  },
  {
   "cell_type": "code",
   "execution_count": 39,
   "metadata": {},
   "outputs": [
    {
     "data": {
      "text/html": [
       "<div>\n",
       "<style scoped>\n",
       "    .dataframe tbody tr th:only-of-type {\n",
       "        vertical-align: middle;\n",
       "    }\n",
       "\n",
       "    .dataframe tbody tr th {\n",
       "        vertical-align: top;\n",
       "    }\n",
       "\n",
       "    .dataframe thead th {\n",
       "        text-align: right;\n",
       "    }\n",
       "</style>\n",
       "<table border=\"1\" class=\"dataframe\">\n",
       "  <thead>\n",
       "    <tr style=\"text-align: right;\">\n",
       "      <th></th>\n",
       "      <th>Jobs</th>\n",
       "      <th>Location</th>\n",
       "      <th>Company</th>\n",
       "      <th>Job_Descrption</th>\n",
       "    </tr>\n",
       "  </thead>\n",
       "  <tbody>\n",
       "    <tr>\n",
       "      <th>0</th>\n",
       "      <td>Data Scientist- Senior Business Analyst/Lead A...</td>\n",
       "      <td>Gurgaon/Gurugram, Bangalore/Bengaluru</td>\n",
       "      <td>Evalueserve.com Pvt. Ltd</td>\n",
       "      <td>Job description\\nJob Description\\nUnderstand a...</td>\n",
       "    </tr>\n",
       "    <tr>\n",
       "      <th>1</th>\n",
       "      <td>Lead Data Scientist - Retail Industry</td>\n",
       "      <td>Bangalore/Bengaluru</td>\n",
       "      <td>IBM India Pvt. Limited</td>\n",
       "      <td>--</td>\n",
       "    </tr>\n",
       "    <tr>\n",
       "      <th>2</th>\n",
       "      <td>Senior/ Lead Data Scientist</td>\n",
       "      <td>Bangalore/Bengaluru</td>\n",
       "      <td>Superior Group</td>\n",
       "      <td>Job description\\nProvide advanced analytical c...</td>\n",
       "    </tr>\n",
       "    <tr>\n",
       "      <th>3</th>\n",
       "      <td>Data Scientist: Advanced Analytics</td>\n",
       "      <td>Bangalore/Bengaluru</td>\n",
       "      <td>IBM India Pvt. Limited</td>\n",
       "      <td>--</td>\n",
       "    </tr>\n",
       "    <tr>\n",
       "      <th>4</th>\n",
       "      <td>Senior Data Scientist</td>\n",
       "      <td>Bangalore/Bengaluru</td>\n",
       "      <td>Cognizer India Private Limited</td>\n",
       "      <td>Job description\\n\\nRoles and Responsibilities\\...</td>\n",
       "    </tr>\n",
       "    <tr>\n",
       "      <th>5</th>\n",
       "      <td>Lead Data Scientist</td>\n",
       "      <td>Bangalore/Bengaluru</td>\n",
       "      <td>Zycus Infotech Pvt Ltd</td>\n",
       "      <td>Job description\\nZycus is looking for applican...</td>\n",
       "    </tr>\n",
       "    <tr>\n",
       "      <th>6</th>\n",
       "      <td>Senior Data Scientist</td>\n",
       "      <td>Bangalore/Bengaluru</td>\n",
       "      <td>Philips India Limited</td>\n",
       "      <td>Job description\\n  Be a part of the Enterprise...</td>\n",
       "    </tr>\n",
       "    <tr>\n",
       "      <th>7</th>\n",
       "      <td>Senior Data Scientist / Tech Lead - Data Science</td>\n",
       "      <td>Bangalore/Bengaluru, Delhi / NCR</td>\n",
       "      <td>Confidential</td>\n",
       "      <td>Job description\\nResponsibilities -\\nLead a te...</td>\n",
       "    </tr>\n",
       "    <tr>\n",
       "      <th>8</th>\n",
       "      <td>Senior Data Scientist - KPO</td>\n",
       "      <td>Mumbai, Bangalore/Bengaluru, Delhi / NCR</td>\n",
       "      <td>TalentCo Search Pvt Ltd</td>\n",
       "      <td>Job description\\n- Ability to understand a pro...</td>\n",
       "    </tr>\n",
       "    <tr>\n",
       "      <th>9</th>\n",
       "      <td>Data Scientist</td>\n",
       "      <td>Bangalore/Bengaluru</td>\n",
       "      <td>Travel Centric Technology</td>\n",
       "      <td>Job description\\nWe are looking for a Data Sci...</td>\n",
       "    </tr>\n",
       "  </tbody>\n",
       "</table>\n",
       "</div>"
      ],
      "text/plain": [
       "                                                Jobs  \\\n",
       "0  Data Scientist- Senior Business Analyst/Lead A...   \n",
       "1              Lead Data Scientist - Retail Industry   \n",
       "2                        Senior/ Lead Data Scientist   \n",
       "3                 Data Scientist: Advanced Analytics   \n",
       "4                              Senior Data Scientist   \n",
       "5                                Lead Data Scientist   \n",
       "6                              Senior Data Scientist   \n",
       "7   Senior Data Scientist / Tech Lead - Data Science   \n",
       "8                        Senior Data Scientist - KPO   \n",
       "9                                     Data Scientist   \n",
       "\n",
       "                                   Location                         Company  \\\n",
       "0     Gurgaon/Gurugram, Bangalore/Bengaluru        Evalueserve.com Pvt. Ltd   \n",
       "1                       Bangalore/Bengaluru          IBM India Pvt. Limited   \n",
       "2                       Bangalore/Bengaluru                  Superior Group   \n",
       "3                       Bangalore/Bengaluru          IBM India Pvt. Limited   \n",
       "4                       Bangalore/Bengaluru  Cognizer India Private Limited   \n",
       "5                       Bangalore/Bengaluru          Zycus Infotech Pvt Ltd   \n",
       "6                       Bangalore/Bengaluru           Philips India Limited   \n",
       "7          Bangalore/Bengaluru, Delhi / NCR                    Confidential   \n",
       "8  Mumbai, Bangalore/Bengaluru, Delhi / NCR         TalentCo Search Pvt Ltd   \n",
       "9                       Bangalore/Bengaluru       Travel Centric Technology   \n",
       "\n",
       "                                      Job_Descrption  \n",
       "0  Job description\\nJob Description\\nUnderstand a...  \n",
       "1                                                 --  \n",
       "2  Job description\\nProvide advanced analytical c...  \n",
       "3                                                 --  \n",
       "4  Job description\\n\\nRoles and Responsibilities\\...  \n",
       "5  Job description\\nZycus is looking for applican...  \n",
       "6  Job description\\n  Be a part of the Enterprise...  \n",
       "7  Job description\\nResponsibilities -\\nLead a te...  \n",
       "8  Job description\\n- Ability to understand a pro...  \n",
       "9  Job description\\nWe are looking for a Data Sci...  "
      ]
     },
     "execution_count": 39,
     "metadata": {},
     "output_type": "execute_result"
    }
   ],
   "source": [
    "#making dataframe for top 10 jobs\n",
    "BDSJD = pd.DataFrame({})\n",
    "BDSJD['Jobs'] = job_title[:10]\n",
    "BDSJD['Location'] = location[:10]\n",
    "BDSJD['Company'] = company[:10]\n",
    "BDSJD['Job_Descrption'] = job_description[:10]\n",
    "BDSJD"
   ]
  },
  {
   "cell_type": "code",
   "execution_count": null,
   "metadata": {},
   "outputs": [],
   "source": []
  },
  {
   "cell_type": "markdown",
   "metadata": {},
   "source": [
    "Q3: In this question you have to scrape data using the filters available on the \n",
    "webpage as shown below:\n",
    "You have to use the location and salary filter.\n",
    "You have to scrape data for “Data Scientist” designation for first 10 job results.\n",
    "You have to scrape the job-title, job-location, company_name,\n",
    "experience_required.\n",
    "The location filter to be used is “Delhi/NCR”\n",
    "The salary filter to be used is “3-6” lakhs\n",
    "The task will be done as shown in the below steps:\n",
    "1. first get the webpage https://www.naukri.com/\n",
    "2. Enter “Data Scientist” in “Skill,Designations,Companies” field \n",
    "3. Then click the search button.\n",
    "4. Then apply the location filter and salary filter by checking the respective boxes\n",
    "4. Then scrape the data for the first 10 jobs results you get.\n",
    "5. Finally create a dataframe of the scraped data.\n",
    "Note- All of the above steps have to be done in code. No step is to be done \n",
    "manually.\n"
   ]
  },
  {
   "cell_type": "code",
   "execution_count": 42,
   "metadata": {},
   "outputs": [],
   "source": [
    "url = 'https://www.naukri.com/'\n",
    "driver.get(url) #get webpage\n",
    "search_job = driver.find_element_by_id('qsb-keyword-sugg') # finding web_element for search job\n",
    "search_job.send_keys(\"Data Scientist\") # Typing type of job in search bar\n",
    "search_btn  = driver.find_element_by_xpath(\"//button[@class = 'btn']\") #getting web element for search button\n",
    "search_btn.click() # clicking search button"
   ]
  },
  {
   "cell_type": "code",
   "execution_count": null,
   "metadata": {},
   "outputs": [],
   "source": []
  },
  {
   "cell_type": "code",
   "execution_count": 43,
   "metadata": {},
   "outputs": [],
   "source": [
    "loc = driver.find_element_by_xpath(\"/html/body/div[1]/div[3]/div[2]/section[1]/div[2]/div[3]/div[2]/div[3]/label/p/span[1]\")\n",
    "\n",
    "loc.click()\n",
    "\n"
   ]
  },
  {
   "cell_type": "code",
   "execution_count": 44,
   "metadata": {},
   "outputs": [],
   "source": [
    "sal = driver.find_element_by_xpath(\"html/body/div[1]/div[3]/div[2]/section[1]/div[2]/div[4]/div[2]/div[2]/label/p\")\n",
    "\n",
    "\n",
    "sal.click()"
   ]
  },
  {
   "cell_type": "code",
   "execution_count": 45,
   "metadata": {},
   "outputs": [],
   "source": [
    "#job-title, job-location, company_name, experience_required"
   ]
  },
  {
   "cell_type": "code",
   "execution_count": 46,
   "metadata": {},
   "outputs": [
    {
     "data": {
      "text/plain": [
       "['Data Scientist Internship',\n",
       " 'Data Scientist',\n",
       " 'Data Scientist',\n",
       " 'Data Scientist / Sr. Data Scientist',\n",
       " 'Only Fresher / Data Scientist / Data Analyst / Analytics - MNC Jobs',\n",
       " 'Senior Data Scientist - Noida',\n",
       " 'Data Scientist',\n",
       " 'Immediate Openings For DATA Scientist with 6 To 7 yrs of Experience',\n",
       " 'Data Scientist',\n",
       " 'Data Scientist - Machine Learning/NLP',\n",
       " 'Data Scientist - Machine Learning/NLP',\n",
       " 'Data Scientist',\n",
       " 'Data Scientist',\n",
       " 'Data Scientist / Data Analyst',\n",
       " 'Data Scientist',\n",
       " 'Senior Data Scientist',\n",
       " 'We are hiring- Data Scientist- Noida',\n",
       " 'Senior Data Scientist',\n",
       " 'Hiring Data Scientist Develope || IDS Infotech LTD || (Permanent WFH)',\n",
       " 'Hiring Data Scientist Develope || IDS Infotech LTD || (Permanent WFH)']"
      ]
     },
     "execution_count": 46,
     "metadata": {},
     "output_type": "execute_result"
    }
   ],
   "source": [
    "\n",
    "jobs_tag = driver.find_elements_by_xpath(\"//a[@class = 'title fw500 ellipsis']\")\n",
    "job_title = []\n",
    "for i in jobs_tag:\n",
    "    job_title.append(i.text)\n",
    "job_title"
   ]
  },
  {
   "cell_type": "code",
   "execution_count": 47,
   "metadata": {},
   "outputs": [
    {
     "data": {
      "text/plain": [
       "['iHackers Inc',\n",
       " 'CBRE South Asia Pvt Ltd',\n",
       " 'Agreeya',\n",
       " 'WEGARNER SOLUTIONS PRIVATE LIMITED',\n",
       " 'GABA Consultancy services',\n",
       " 'Optum Global Solutions (India) Private Limited',\n",
       " 'R Systems International Ltd.',\n",
       " 'Entune IT Consulting Private Limited',\n",
       " 'Decimal Technologies Pvt Ltd.',\n",
       " 'TalPro',\n",
       " 'TalPro',\n",
       " 'Ashkom Media India Private Limited',\n",
       " 'Global Client of High Heads Management Consultants',\n",
       " 'CARS24',\n",
       " 'Fractal Analytics',\n",
       " 'inVentiv International Pharma Services Pvt. Ltd.',\n",
       " 'RANDSTAD INDIA PVT LTD',\n",
       " 'iNICU',\n",
       " 'IDS Infotech Ltd.',\n",
       " 'IDS Infotech Ltd.']"
      ]
     },
     "execution_count": 47,
     "metadata": {},
     "output_type": "execute_result"
    }
   ],
   "source": [
    "comp_name_tag = driver.find_elements_by_xpath(\"//a[@class = 'subTitle ellipsis fleft']\")\n",
    "comp_name = []\n",
    "for i in comp_name_tag:\n",
    "    comp_name.append(i.text)\n",
    "comp_name"
   ]
  },
  {
   "cell_type": "code",
   "execution_count": 48,
   "metadata": {},
   "outputs": [
    {
     "data": {
      "text/plain": [
       "['0-1 Yrs',\n",
       " '2-4 Yrs',\n",
       " '3-6 Yrs',\n",
       " '0-5 Yrs',\n",
       " '0-0 Yrs',\n",
       " '2-6 Yrs',\n",
       " '5-10 Yrs',\n",
       " '1-3 Yrs',\n",
       " '2-6 Yrs',\n",
       " '2-4 Yrs',\n",
       " '3-8 Yrs',\n",
       " '3-6 Yrs',\n",
       " '1-5 Yrs',\n",
       " '3-7 Yrs',\n",
       " '3-6 Yrs',\n",
       " '1-5 Yrs',\n",
       " '5-10 Yrs',\n",
       " '5-10 Yrs']"
      ]
     },
     "execution_count": 48,
     "metadata": {},
     "output_type": "execute_result"
    }
   ],
   "source": [
    "exp_tag = driver.find_elements_by_xpath(\"//span[@class = 'ellipsis fleft fs12 lh16 ']\") # getting tags for our experience\n",
    "exp = [] # empty list for experience\n",
    "for i in exp_tag:\n",
    "    exp.append(i.text)\n",
    "EXP = [] # empty list for storing only the experience and removing unrelated information\n",
    "for i in range(0,len(exp)):\n",
    "    if exp[i].endswith(\"Yrs\"):\n",
    "        EXP.append(exp[i])\n",
    "        \n",
    "    \n",
    "EXP"
   ]
  },
  {
   "cell_type": "code",
   "execution_count": 51,
   "metadata": {},
   "outputs": [],
   "source": [
    "loc_tag = driver.find_elements_by_xpath(\"//li[@class = 'fleft grey-text br2 placeHolderLi location']/span \") # getting tags for locations\n"
   ]
  },
  {
   "cell_type": "code",
   "execution_count": 53,
   "metadata": {},
   "outputs": [
    {
     "data": {
      "text/plain": [
       "['New Delhi',\n",
       " 'Gurgaon/Gurugram',\n",
       " 'Noida, Gurgaon/Gurugram, Delhi / NCR',\n",
       " 'Noida, Pune, Mumbai (All Areas)',\n",
       " 'Noida, Gurgaon/Gurugram, Delhi / NCR',\n",
       " 'Noida',\n",
       " 'Noida(Sector-59 Noida)',\n",
       " 'Kolkata, Hyderabad/Secunderabad, Pune, Ahmedabad, Chennai, Bangalore/Bengaluru, Delhi / NCR, Mumbai (All Areas)',\n",
       " '(WFH during Covid)',\n",
       " 'Gurgaon/Gurugram']"
      ]
     },
     "execution_count": 53,
     "metadata": {},
     "output_type": "execute_result"
    }
   ],
   "source": [
    "loc = [] # empty list for locations\n",
    "for i in loc_tag[:10]:\n",
    "    loc.append(i.text)\n",
    "loc"
   ]
  },
  {
   "cell_type": "code",
   "execution_count": 54,
   "metadata": {},
   "outputs": [
    {
     "data": {
      "text/html": [
       "<div>\n",
       "<style scoped>\n",
       "    .dataframe tbody tr th:only-of-type {\n",
       "        vertical-align: middle;\n",
       "    }\n",
       "\n",
       "    .dataframe tbody tr th {\n",
       "        vertical-align: top;\n",
       "    }\n",
       "\n",
       "    .dataframe thead th {\n",
       "        text-align: right;\n",
       "    }\n",
       "</style>\n",
       "<table border=\"1\" class=\"dataframe\">\n",
       "  <thead>\n",
       "    <tr style=\"text-align: right;\">\n",
       "      <th></th>\n",
       "      <th>Jobs</th>\n",
       "      <th>Location</th>\n",
       "      <th>Company</th>\n",
       "      <th>Exp_Required</th>\n",
       "    </tr>\n",
       "  </thead>\n",
       "  <tbody>\n",
       "    <tr>\n",
       "      <th>0</th>\n",
       "      <td>Data Scientist Internship</td>\n",
       "      <td>New Delhi</td>\n",
       "      <td>iHackers Inc</td>\n",
       "      <td>0-1 Yrs</td>\n",
       "    </tr>\n",
       "    <tr>\n",
       "      <th>1</th>\n",
       "      <td>Data Scientist</td>\n",
       "      <td>Gurgaon/Gurugram</td>\n",
       "      <td>CBRE South Asia Pvt Ltd</td>\n",
       "      <td>2-4 Yrs</td>\n",
       "    </tr>\n",
       "    <tr>\n",
       "      <th>2</th>\n",
       "      <td>Data Scientist</td>\n",
       "      <td>Noida, Gurgaon/Gurugram, Delhi / NCR</td>\n",
       "      <td>Agreeya</td>\n",
       "      <td>3-6 Yrs</td>\n",
       "    </tr>\n",
       "    <tr>\n",
       "      <th>3</th>\n",
       "      <td>Data Scientist / Sr. Data Scientist</td>\n",
       "      <td>Noida, Pune, Mumbai (All Areas)</td>\n",
       "      <td>WEGARNER SOLUTIONS PRIVATE LIMITED</td>\n",
       "      <td>0-5 Yrs</td>\n",
       "    </tr>\n",
       "    <tr>\n",
       "      <th>4</th>\n",
       "      <td>Only Fresher / Data Scientist / Data Analyst /...</td>\n",
       "      <td>Noida, Gurgaon/Gurugram, Delhi / NCR</td>\n",
       "      <td>GABA Consultancy services</td>\n",
       "      <td>0-0 Yrs</td>\n",
       "    </tr>\n",
       "    <tr>\n",
       "      <th>5</th>\n",
       "      <td>Senior Data Scientist - Noida</td>\n",
       "      <td>Noida</td>\n",
       "      <td>Optum Global Solutions (India) Private Limited</td>\n",
       "      <td>2-6 Yrs</td>\n",
       "    </tr>\n",
       "    <tr>\n",
       "      <th>6</th>\n",
       "      <td>Data Scientist</td>\n",
       "      <td>Noida(Sector-59 Noida)</td>\n",
       "      <td>R Systems International Ltd.</td>\n",
       "      <td>5-10 Yrs</td>\n",
       "    </tr>\n",
       "    <tr>\n",
       "      <th>7</th>\n",
       "      <td>Immediate Openings For DATA Scientist with 6 T...</td>\n",
       "      <td>Kolkata, Hyderabad/Secunderabad, Pune, Ahmedab...</td>\n",
       "      <td>Entune IT Consulting Private Limited</td>\n",
       "      <td>1-3 Yrs</td>\n",
       "    </tr>\n",
       "    <tr>\n",
       "      <th>8</th>\n",
       "      <td>Data Scientist</td>\n",
       "      <td>(WFH during Covid)</td>\n",
       "      <td>Decimal Technologies Pvt Ltd.</td>\n",
       "      <td>2-6 Yrs</td>\n",
       "    </tr>\n",
       "    <tr>\n",
       "      <th>9</th>\n",
       "      <td>Data Scientist - Machine Learning/NLP</td>\n",
       "      <td>Gurgaon/Gurugram</td>\n",
       "      <td>TalPro</td>\n",
       "      <td>2-4 Yrs</td>\n",
       "    </tr>\n",
       "  </tbody>\n",
       "</table>\n",
       "</div>"
      ],
      "text/plain": [
       "                                                Jobs  \\\n",
       "0                          Data Scientist Internship   \n",
       "1                                     Data Scientist   \n",
       "2                                     Data Scientist   \n",
       "3                Data Scientist / Sr. Data Scientist   \n",
       "4  Only Fresher / Data Scientist / Data Analyst /...   \n",
       "5                      Senior Data Scientist - Noida   \n",
       "6                                     Data Scientist   \n",
       "7  Immediate Openings For DATA Scientist with 6 T...   \n",
       "8                                     Data Scientist   \n",
       "9              Data Scientist - Machine Learning/NLP   \n",
       "\n",
       "                                            Location  \\\n",
       "0                                          New Delhi   \n",
       "1                                   Gurgaon/Gurugram   \n",
       "2               Noida, Gurgaon/Gurugram, Delhi / NCR   \n",
       "3                    Noida, Pune, Mumbai (All Areas)   \n",
       "4               Noida, Gurgaon/Gurugram, Delhi / NCR   \n",
       "5                                              Noida   \n",
       "6                             Noida(Sector-59 Noida)   \n",
       "7  Kolkata, Hyderabad/Secunderabad, Pune, Ahmedab...   \n",
       "8                                 (WFH during Covid)   \n",
       "9                                   Gurgaon/Gurugram   \n",
       "\n",
       "                                          Company Exp_Required  \n",
       "0                                    iHackers Inc      0-1 Yrs  \n",
       "1                         CBRE South Asia Pvt Ltd      2-4 Yrs  \n",
       "2                                         Agreeya      3-6 Yrs  \n",
       "3              WEGARNER SOLUTIONS PRIVATE LIMITED      0-5 Yrs  \n",
       "4                       GABA Consultancy services      0-0 Yrs  \n",
       "5  Optum Global Solutions (India) Private Limited      2-6 Yrs  \n",
       "6                    R Systems International Ltd.     5-10 Yrs  \n",
       "7            Entune IT Consulting Private Limited      1-3 Yrs  \n",
       "8                   Decimal Technologies Pvt Ltd.      2-6 Yrs  \n",
       "9                                          TalPro      2-4 Yrs  "
      ]
     },
     "execution_count": 54,
     "metadata": {},
     "output_type": "execute_result"
    }
   ],
   "source": [
    "#making dataframe for top 10 jobs\n",
    "BDSJDD = pd.DataFrame({})\n",
    "BDSJDD['Jobs'] = job_title[:10]\n",
    "BDSJDD['Location'] = loc[:10]\n",
    "BDSJDD['Company'] = comp_name[:10]\n",
    "BDSJDD['Exp_Required'] = EXP[:10]\n",
    "BDSJDD"
   ]
  },
  {
   "cell_type": "code",
   "execution_count": null,
   "metadata": {},
   "outputs": [],
   "source": []
  },
  {
   "cell_type": "markdown",
   "metadata": {},
   "source": [
    "# Q4: Write a python program to scrape data for first 10 job results for Data scientist \n",
    "Designation in Noida location. You have to scrape company_name, No. of days \n",
    "ago when job was posted, Rating of the company.\n",
    "This task will be done in following steps:\n",
    "1. first get the webpage https://www.glassdoor.co.in/index.htm\n",
    "2. Enter “Data Scientist” in “Job Title,Keyword,Company” field and enter “Noida” \n",
    "in “location” field.\n",
    "3. Then click the search button. You will land up in the below page:\n",
    "4. Then scrape the data for the first 10 jobs results you get in the above shown \n",
    "page\n",
    "5. Finally create a dataframe of the scraped data"
   ]
  },
  {
   "cell_type": "code",
   "execution_count": 71,
   "metadata": {},
   "outputs": [],
   "source": [
    "url = 'https://www.glassdoor.co.in/index.htm'\n",
    "driver.get(url) #get webpage\n"
   ]
  },
  {
   "cell_type": "code",
   "execution_count": 74,
   "metadata": {},
   "outputs": [
    {
     "ename": "NoSuchElementException",
     "evalue": "Message: no such element: Unable to locate element: {\"method\":\"css selector\",\"selector\":\".selected\"}\n  (Session info: MicrosoftEdge=92.0.902.67)\n",
     "output_type": "error",
     "traceback": [
      "\u001b[1;31m---------------------------------------------------------------------------\u001b[0m",
      "\u001b[1;31mNoSuchElementException\u001b[0m                    Traceback (most recent call last)",
      "\u001b[1;32m<ipython-input-74-dc33aafd5ba7>\u001b[0m in \u001b[0;36m<module>\u001b[1;34m\u001b[0m\n\u001b[0;32m      1\u001b[0m \u001b[1;32mfrom\u001b[0m \u001b[0mselenium\u001b[0m\u001b[1;33m.\u001b[0m\u001b[0mcommon\u001b[0m\u001b[1;33m.\u001b[0m\u001b[0mexceptions\u001b[0m \u001b[1;32mimport\u001b[0m \u001b[0mElementClickInterceptedException\u001b[0m\u001b[1;33m\u001b[0m\u001b[1;33m\u001b[0m\u001b[0m\n\u001b[0;32m      2\u001b[0m \u001b[1;32mtry\u001b[0m\u001b[1;33m:\u001b[0m\u001b[1;33m\u001b[0m\u001b[1;33m\u001b[0m\u001b[0m\n\u001b[1;32m----> 3\u001b[1;33m     \u001b[0mdriver\u001b[0m\u001b[1;33m.\u001b[0m\u001b[0mfind_element_by_class_name\u001b[0m\u001b[1;33m(\u001b[0m\u001b[1;34m\"selected\"\u001b[0m\u001b[1;33m)\u001b[0m\u001b[1;33m.\u001b[0m\u001b[0mclick\u001b[0m\u001b[1;33m(\u001b[0m\u001b[1;33m)\u001b[0m\u001b[1;33m\u001b[0m\u001b[1;33m\u001b[0m\u001b[0m\n\u001b[0m\u001b[0;32m      4\u001b[0m \u001b[1;32mexcept\u001b[0m \u001b[0mElementClickInterceptedException\u001b[0m\u001b[1;33m:\u001b[0m\u001b[1;33m\u001b[0m\u001b[1;33m\u001b[0m\u001b[0m\n\u001b[0;32m      5\u001b[0m     \u001b[1;32mpass\u001b[0m\u001b[1;33m\u001b[0m\u001b[1;33m\u001b[0m\u001b[0m\n",
      "\u001b[1;32m~\\anaconda3\\lib\\site-packages\\selenium\\webdriver\\remote\\webdriver.py\u001b[0m in \u001b[0;36mfind_element_by_class_name\u001b[1;34m(self, name)\u001b[0m\n\u001b[0;32m    562\u001b[0m             \u001b[0melement\u001b[0m \u001b[1;33m=\u001b[0m \u001b[0mdriver\u001b[0m\u001b[1;33m.\u001b[0m\u001b[0mfind_element_by_class_name\u001b[0m\u001b[1;33m(\u001b[0m\u001b[1;34m'foo'\u001b[0m\u001b[1;33m)\u001b[0m\u001b[1;33m\u001b[0m\u001b[1;33m\u001b[0m\u001b[0m\n\u001b[0;32m    563\u001b[0m         \"\"\"\n\u001b[1;32m--> 564\u001b[1;33m         \u001b[1;32mreturn\u001b[0m \u001b[0mself\u001b[0m\u001b[1;33m.\u001b[0m\u001b[0mfind_element\u001b[0m\u001b[1;33m(\u001b[0m\u001b[0mby\u001b[0m\u001b[1;33m=\u001b[0m\u001b[0mBy\u001b[0m\u001b[1;33m.\u001b[0m\u001b[0mCLASS_NAME\u001b[0m\u001b[1;33m,\u001b[0m \u001b[0mvalue\u001b[0m\u001b[1;33m=\u001b[0m\u001b[0mname\u001b[0m\u001b[1;33m)\u001b[0m\u001b[1;33m\u001b[0m\u001b[1;33m\u001b[0m\u001b[0m\n\u001b[0m\u001b[0;32m    565\u001b[0m \u001b[1;33m\u001b[0m\u001b[0m\n\u001b[0;32m    566\u001b[0m     \u001b[1;32mdef\u001b[0m \u001b[0mfind_elements_by_class_name\u001b[0m\u001b[1;33m(\u001b[0m\u001b[0mself\u001b[0m\u001b[1;33m,\u001b[0m \u001b[0mname\u001b[0m\u001b[1;33m)\u001b[0m\u001b[1;33m:\u001b[0m\u001b[1;33m\u001b[0m\u001b[1;33m\u001b[0m\u001b[0m\n",
      "\u001b[1;32m~\\anaconda3\\lib\\site-packages\\selenium\\webdriver\\remote\\webdriver.py\u001b[0m in \u001b[0;36mfind_element\u001b[1;34m(self, by, value)\u001b[0m\n\u001b[0;32m    974\u001b[0m                 \u001b[0mby\u001b[0m \u001b[1;33m=\u001b[0m \u001b[0mBy\u001b[0m\u001b[1;33m.\u001b[0m\u001b[0mCSS_SELECTOR\u001b[0m\u001b[1;33m\u001b[0m\u001b[1;33m\u001b[0m\u001b[0m\n\u001b[0;32m    975\u001b[0m                 \u001b[0mvalue\u001b[0m \u001b[1;33m=\u001b[0m \u001b[1;34m'[name=\"%s\"]'\u001b[0m \u001b[1;33m%\u001b[0m \u001b[0mvalue\u001b[0m\u001b[1;33m\u001b[0m\u001b[1;33m\u001b[0m\u001b[0m\n\u001b[1;32m--> 976\u001b[1;33m         return self.execute(Command.FIND_ELEMENT, {\n\u001b[0m\u001b[0;32m    977\u001b[0m             \u001b[1;34m'using'\u001b[0m\u001b[1;33m:\u001b[0m \u001b[0mby\u001b[0m\u001b[1;33m,\u001b[0m\u001b[1;33m\u001b[0m\u001b[1;33m\u001b[0m\u001b[0m\n\u001b[0;32m    978\u001b[0m             'value': value})['value']\n",
      "\u001b[1;32m~\\anaconda3\\lib\\site-packages\\selenium\\webdriver\\remote\\webdriver.py\u001b[0m in \u001b[0;36mexecute\u001b[1;34m(self, driver_command, params)\u001b[0m\n\u001b[0;32m    319\u001b[0m         \u001b[0mresponse\u001b[0m \u001b[1;33m=\u001b[0m \u001b[0mself\u001b[0m\u001b[1;33m.\u001b[0m\u001b[0mcommand_executor\u001b[0m\u001b[1;33m.\u001b[0m\u001b[0mexecute\u001b[0m\u001b[1;33m(\u001b[0m\u001b[0mdriver_command\u001b[0m\u001b[1;33m,\u001b[0m \u001b[0mparams\u001b[0m\u001b[1;33m)\u001b[0m\u001b[1;33m\u001b[0m\u001b[1;33m\u001b[0m\u001b[0m\n\u001b[0;32m    320\u001b[0m         \u001b[1;32mif\u001b[0m \u001b[0mresponse\u001b[0m\u001b[1;33m:\u001b[0m\u001b[1;33m\u001b[0m\u001b[1;33m\u001b[0m\u001b[0m\n\u001b[1;32m--> 321\u001b[1;33m             \u001b[0mself\u001b[0m\u001b[1;33m.\u001b[0m\u001b[0merror_handler\u001b[0m\u001b[1;33m.\u001b[0m\u001b[0mcheck_response\u001b[0m\u001b[1;33m(\u001b[0m\u001b[0mresponse\u001b[0m\u001b[1;33m)\u001b[0m\u001b[1;33m\u001b[0m\u001b[1;33m\u001b[0m\u001b[0m\n\u001b[0m\u001b[0;32m    322\u001b[0m             response['value'] = self._unwrap_value(\n\u001b[0;32m    323\u001b[0m                 response.get('value', None))\n",
      "\u001b[1;32m~\\anaconda3\\lib\\site-packages\\selenium\\webdriver\\remote\\errorhandler.py\u001b[0m in \u001b[0;36mcheck_response\u001b[1;34m(self, response)\u001b[0m\n\u001b[0;32m    240\u001b[0m                 \u001b[0malert_text\u001b[0m \u001b[1;33m=\u001b[0m \u001b[0mvalue\u001b[0m\u001b[1;33m[\u001b[0m\u001b[1;34m'alert'\u001b[0m\u001b[1;33m]\u001b[0m\u001b[1;33m.\u001b[0m\u001b[0mget\u001b[0m\u001b[1;33m(\u001b[0m\u001b[1;34m'text'\u001b[0m\u001b[1;33m)\u001b[0m\u001b[1;33m\u001b[0m\u001b[1;33m\u001b[0m\u001b[0m\n\u001b[0;32m    241\u001b[0m             \u001b[1;32mraise\u001b[0m \u001b[0mexception_class\u001b[0m\u001b[1;33m(\u001b[0m\u001b[0mmessage\u001b[0m\u001b[1;33m,\u001b[0m \u001b[0mscreen\u001b[0m\u001b[1;33m,\u001b[0m \u001b[0mstacktrace\u001b[0m\u001b[1;33m,\u001b[0m \u001b[0malert_text\u001b[0m\u001b[1;33m)\u001b[0m\u001b[1;33m\u001b[0m\u001b[1;33m\u001b[0m\u001b[0m\n\u001b[1;32m--> 242\u001b[1;33m         \u001b[1;32mraise\u001b[0m \u001b[0mexception_class\u001b[0m\u001b[1;33m(\u001b[0m\u001b[0mmessage\u001b[0m\u001b[1;33m,\u001b[0m \u001b[0mscreen\u001b[0m\u001b[1;33m,\u001b[0m \u001b[0mstacktrace\u001b[0m\u001b[1;33m)\u001b[0m\u001b[1;33m\u001b[0m\u001b[1;33m\u001b[0m\u001b[0m\n\u001b[0m\u001b[0;32m    243\u001b[0m \u001b[1;33m\u001b[0m\u001b[0m\n\u001b[0;32m    244\u001b[0m     \u001b[1;32mdef\u001b[0m \u001b[0m_value_or_default\u001b[0m\u001b[1;33m(\u001b[0m\u001b[0mself\u001b[0m\u001b[1;33m,\u001b[0m \u001b[0mobj\u001b[0m\u001b[1;33m,\u001b[0m \u001b[0mkey\u001b[0m\u001b[1;33m,\u001b[0m \u001b[0mdefault\u001b[0m\u001b[1;33m)\u001b[0m\u001b[1;33m:\u001b[0m\u001b[1;33m\u001b[0m\u001b[1;33m\u001b[0m\u001b[0m\n",
      "\u001b[1;31mNoSuchElementException\u001b[0m: Message: no such element: Unable to locate element: {\"method\":\"css selector\",\"selector\":\".selected\"}\n  (Session info: MicrosoftEdge=92.0.902.67)\n"
     ]
    }
   ],
   "source": [
    "from selenium.common.exceptions import ElementClickInterceptedException\n",
    "try:\n",
    "    driver.find_element_by_class_name(\"selected\").click()\n",
    "except ElementClickInterceptedException:\n",
    "    pass\n",
    "time.sleep(5)\n",
    "try:\n",
    "    driver.find_element_by_class_name(\"ModalStyle_xBtn__29PT9\").click()\n",
    "except NoSuchElementException:\n",
    "    pass"
   ]
  },
  {
   "cell_type": "code",
   "execution_count": null,
   "metadata": {},
   "outputs": [],
   "source": [
    "search_job = driver.find_element_by_id('sc.keyword') # finding web_element for search job\n",
    "search_job.send_keys(\"Data Scientist\") # Typing type of job in search bar\n",
    "keyword = driver.find_element_by_xpath(\"/html/body/header/nav[1]/div/div/div/div[4]/div[2]/form/div/div[2]/div/div[2]/div/ul/li[2]/span\")\n",
    "keyword.click()\n",
    "loc = driver.find_element_by_id('sc.location')\n",
    "loc.send_keys(\"Noida\")\n",
    "search_btn  = driver.find_element_by_xpath(\"//button[@class = 'gd-ui-button ml-std col-auto search__SearchStyles__newSearchButton css-1dqvyh7']\") #getting web element for search button\n",
    "search_btn.click() # clicking search button"
   ]
  },
  {
   "cell_type": "code",
   "execution_count": null,
   "metadata": {},
   "outputs": [],
   "source": [
    "# this question is asking to login first"
   ]
  },
  {
   "cell_type": "markdown",
   "metadata": {},
   "source": [
    "# Q5: Write a python program to scrape the salary data for Data Scientist designation in Noida location.\n",
    "\n",
    "You have to scrape Company name, Number of salaries, Average salary, Min\n",
    "salary, Max Salary.\n",
    "The above task will be, done as shown in the below steps:\n",
    "1. first get the webpage https://www.glassdoor.co.in/Salaries/index.htm\n",
    "2. Enter “Data Scientist” in Job title field and “Noida” in location field.\n",
    "3. Click the search button.\n",
    "4. After that you will land on the below page \n",
    "You have to scrape whole data from this webpage\n",
    "5. Scrape data for first 10 companies. Scrape the min salary, max salary, company \n",
    "name, Average salary and rating of the company.\n",
    "6.Store the data in a dataframe.\n",
    "Note that all of the above steps have to be done by coding only and not manually.\n",
    "\n",
    "\n"
   ]
  },
  {
   "cell_type": "code",
   "execution_count": 68,
   "metadata": {},
   "outputs": [],
   "source": [
    "url = 'https://www.glassdoor.co.in/Salaries/index.htm'\n",
    "driver.get(url) #get webpage\n"
   ]
  },
  {
   "cell_type": "code",
   "execution_count": 69,
   "metadata": {},
   "outputs": [],
   "source": [
    "search_job = driver.find_element_by_id('KeywordSearch') # finding web_element for search job\n",
    "search_job.send_keys(\"Data Scientist\")\n"
   ]
  },
  {
   "cell_type": "code",
   "execution_count": 70,
   "metadata": {},
   "outputs": [],
   "source": [
    "loc = driver.find_element_by_id('LocationSearch')\n",
    "loc.send_keys(\"\")\n"
   ]
  },
  {
   "cell_type": "code",
   "execution_count": null,
   "metadata": {},
   "outputs": [],
   "source": [
    "search_btn  = driver.find_element_by_id('HeroSearchButton') #getting web element for search button\n",
    "search_btn.click() # clicking search button"
   ]
  },
  {
   "cell_type": "code",
   "execution_count": null,
   "metadata": {},
   "outputs": [],
   "source": [
    "# this question is asking to login first"
   ]
  },
  {
   "cell_type": "markdown",
   "metadata": {},
   "source": [
    "# Q6 : Scrape data of first 100 sunglasses listings on flipkart.com. You have to scrape four attributes: \n",
    "\n",
    "1. Brand\n",
    "2. Product Description\n",
    "3. Price\n",
    "4. Discount %\n",
    "To scrape the data you have to go through following steps:\n",
    "1. Go to flipkart webpage by url https://www.flipkart.com/\n",
    "2. Enter “sunglasses” in the search field where “search for products, brands and \n",
    "more” is written and click the search icon\n",
    "3. after that you will reach to a webpage having a lot of sunglasses. From this page \n",
    "you can scrap the required data as usual.\n",
    "4. after scraping data from the first page, go to the “Next” Button at the bottom of \n",
    "the page , then click on it\n",
    "5. Now scrape data from this page as usual\n",
    "6. repeat this until you get data for 100 sunglasses.\n",
    "Note that all of the above steps have to be done by coding only and not manually."
   ]
  },
  {
   "cell_type": "code",
   "execution_count": 113,
   "metadata": {},
   "outputs": [],
   "source": [
    "url = 'https://www.flipkart.com/' # assign our web address to a variable\n",
    "driver.get(url) #get webpage\n"
   ]
  },
  {
   "cell_type": "code",
   "execution_count": 114,
   "metadata": {},
   "outputs": [],
   "source": [
    "search = driver.find_element_by_xpath(\"//input[@class = '_3704LK']\") # finding web_element for search box\n",
    "search.send_keys(\"Sunglasses\")\n"
   ]
  },
  {
   "cell_type": "code",
   "execution_count": 115,
   "metadata": {},
   "outputs": [],
   "source": [
    "search_btn  = driver.find_element_by_xpath(\"/html/body/div/div/div[1]/div[1]/div[2]/div[2]/form/div/button\") #getting web element for search button\n",
    "search_btn.click() # clicking it\n"
   ]
  },
  {
   "cell_type": "code",
   "execution_count": 88,
   "metadata": {},
   "outputs": [
    {
     "data": {
      "text/plain": [
       "['Wrogn',\n",
       " 'HAMIW COLLECTION',\n",
       " 'Elligator',\n",
       " 'Fastrack',\n",
       " 'PIRASO',\n",
       " 'Fastrack',\n",
       " 'kingsunglasses',\n",
       " 'ROZZETTA CRAFT',\n",
       " 'Fastrack',\n",
       " 'Fastrack',\n",
       " 'SUNBEE',\n",
       " 'Silver Kartz',\n",
       " 'Fastrack',\n",
       " 'SHAAH COLLECTIONS',\n",
       " 'Fastrack',\n",
       " 'ROZZETTA CRAFT',\n",
       " 'PHENOMENAL',\n",
       " 'Fastrack',\n",
       " 'Fastrack',\n",
       " 'ROYAL SON',\n",
       " 'kingsunglasses',\n",
       " 'PIRASO',\n",
       " 'ROZZETTA CRAFT',\n",
       " 'Wrogn',\n",
       " 'GANSTA',\n",
       " 'kingsunglasses',\n",
       " 'PIRASO',\n",
       " 'Silver Kartz',\n",
       " 'Elligator',\n",
       " 'Silver Kartz',\n",
       " 'ROZZETTA CRAFT',\n",
       " 'ROYAL SON',\n",
       " 'Fravy',\n",
       " 'Fravy',\n",
       " 'hipe',\n",
       " 'AISLIN',\n",
       " 'PHENOMENAL',\n",
       " 'Fastrack',\n",
       " 'Singco India',\n",
       " 'VINCENT CHASE']"
      ]
     },
     "execution_count": 88,
     "metadata": {},
     "output_type": "execute_result"
    }
   ],
   "source": [
    "Brand = [] # empty list for storing Brand names\n",
    "brand_tag = driver.find_elements_by_xpath(\"//div[@class = '_2WkVRV']\") # getting tags for brand names\n",
    "for i in brand_tag:\n",
    "    Brand.append(i.text)\n",
    "Brand"
   ]
  },
  {
   "cell_type": "code",
   "execution_count": 89,
   "metadata": {},
   "outputs": [],
   "source": [
    "urls = [] # Empty list for storing URLs\n",
    "for i in driver.find_elements_by_xpath(\"//a[@class = '_3bPFwb']\"):\n",
    "    urls.append(i.get_attribute(\"href\"))"
   ]
  },
  {
   "cell_type": "code",
   "execution_count": 90,
   "metadata": {},
   "outputs": [
    {
     "data": {
      "text/plain": [
       "['https://www.flipkart.com/wrogn-wayfarer-sunglasses/p/itm7f7e238482e05?pid=SGLFVHMBY39XKD3K&lid=LSTSGLFVHMBY39XKD3KZ8TPD6&marketplace=FLIPKART&q=Sunglasses&store=26x&srno=s_1_1&otracker=search&otracker1=search&fm=SEARCH&iid=en_Pnlm8YSPVsRiD9y2y7iUVBA7KKXI8O7O4FwHYTnUCQL1iKa6337PSQ8RVP1ocburdb3r2Qgjr7uMuOFvGmrNtw%3D%3D&ppt=hp&ppn=homepage&ssid=7d4b2fjeps0000001628798394533&qH=0ff7a11a5902c9f7',\n",
       " 'https://www.flipkart.com/hamiw-collection-wayfarer-sports-shield-rectangular-retro-square-sunglasses/p/itme15648f3a4842?pid=SGLFX9FFSBSGV9DB&lid=LSTSGLFX9FFSBSGV9DBITLBWZ&marketplace=FLIPKART&q=Sunglasses&store=26x&srno=s_1_2&otracker=search&otracker1=search&fm=SEARCH&iid=en_Pnlm8YSPVsRiD9y2y7iUVBA7KKXI8O7O4FwHYTnUCQI8LxA%2BFe4WCYLZvKxV04lMbqXvcMRG09gvFTM0hKmr1Q%3D%3D&ppt=hp&ppn=homepage&ssid=7d4b2fjeps0000001628798394533&qH=0ff7a11a5902c9f7',\n",
       " 'https://www.flipkart.com/elligator-round-sunglasses/p/itm3c981fc444358?pid=SGLFPHP5BVBJTCDB&lid=LSTSGLFPHP5BVBJTCDB7P4T6G&marketplace=FLIPKART&q=Sunglasses&store=26x&srno=s_1_3&otracker=search&otracker1=search&fm=SEARCH&iid=620fa649-e706-4cbb-9d64-5319c4337ee4.SGLFPHP5BVBJTCDB.SEARCH&ppt=hp&ppn=homepage&ssid=7d4b2fjeps0000001628798394533&qH=0ff7a11a5902c9f7',\n",
       " 'https://www.flipkart.com/fastrack-wayfarer-sunglasses/p/itmf79dqjqucq9f3?pid=SGLF79DQR8NQAT2W&lid=LSTSGLF79DQR8NQAT2W0MLSHN&marketplace=FLIPKART&q=Sunglasses&store=26x&srno=s_1_4&otracker=search&otracker1=search&fm=SEARCH&iid=620fa649-e706-4cbb-9d64-5319c4337ee4.SGLF79DQR8NQAT2W.SEARCH&ppt=hp&ppn=homepage&ssid=7d4b2fjeps0000001628798394533&qH=0ff7a11a5902c9f7',\n",
       " 'https://www.flipkart.com/piraso-aviator-sunglasses/p/itm70504d13b7992?pid=SGLFV8YYCEA8RWAC&lid=LSTSGLFV8YYCEA8RWACIACICJ&marketplace=FLIPKART&q=Sunglasses&store=26x&spotlightTagId=BestsellerId_26x&srno=s_1_5&otracker=search&otracker1=search&fm=SEARCH&iid=620fa649-e706-4cbb-9d64-5319c4337ee4.SGLFV8YYCEA8RWAC.SEARCH&ppt=hp&ppn=homepage&ssid=7d4b2fjeps0000001628798394533&qH=0ff7a11a5902c9f7',\n",
       " 'https://www.flipkart.com/fastrack-rectangular-sunglasses/p/itmf3yhd8wephwxh?pid=SGLES2WMF6CH5GYF&lid=LSTSGLES2WMF6CH5GYFXRVSZN&marketplace=FLIPKART&q=Sunglasses&store=26x&srno=s_1_6&otracker=search&otracker1=search&fm=SEARCH&iid=620fa649-e706-4cbb-9d64-5319c4337ee4.SGLES2WMF6CH5GYF.SEARCH&ppt=hp&ppn=homepage&ssid=7d4b2fjeps0000001628798394533&qH=0ff7a11a5902c9f7',\n",
       " 'https://www.flipkart.com/kingsunglasses-wayfarer-sunglasses/p/itm9c7287be7c247?pid=SGLG2ZY9UERPGCZX&lid=LSTSGLG2ZY9UERPGCZXOWQRMA&marketplace=FLIPKART&q=Sunglasses&store=26x&srno=s_1_7&otracker=search&otracker1=search&fm=SEARCH&iid=620fa649-e706-4cbb-9d64-5319c4337ee4.SGLG2ZY9UERPGCZX.SEARCH&ppt=hp&ppn=homepage&ssid=7d4b2fjeps0000001628798394533&qH=0ff7a11a5902c9f7',\n",
       " 'https://www.flipkart.com/rozzetta-craft-round-sunglasses/p/itm992d1d1202834?pid=SGLFMG6DHUPTH2VB&lid=LSTSGLFMG6DHUPTH2VBWQRQLV&marketplace=FLIPKART&q=Sunglasses&store=26x&srno=s_1_8&otracker=search&otracker1=search&fm=SEARCH&iid=en_Pnlm8YSPVsRiD9y2y7iUVBA7KKXI8O7O4FwHYTnUCQKC7MdezAozvKiND9zI3HHDjG9SYEDAmfJMaL5ZfzFE%2FA%3D%3D&ppt=hp&ppn=homepage&ssid=7d4b2fjeps0000001628798394533&qH=0ff7a11a5902c9f7',\n",
       " 'https://www.flipkart.com/fastrack-wayfarer-sunglasses/p/itm04d9621b98c78?pid=SGLFG94C8PAHZ3SH&lid=LSTSGLFG94C8PAHZ3SHAFCJXO&marketplace=FLIPKART&q=Sunglasses&store=26x&srno=s_1_9&otracker=search&otracker1=search&fm=SEARCH&iid=620fa649-e706-4cbb-9d64-5319c4337ee4.SGLFG94C8PAHZ3SH.SEARCH&ppt=hp&ppn=homepage&ssid=7d4b2fjeps0000001628798394533&qH=0ff7a11a5902c9f7',\n",
       " 'https://www.flipkart.com/fastrack-aviator-sunglasses/p/itm71bfd7c0bb72a?pid=SGLFKYGHRDPNJGGG&lid=LSTSGLFKYGHRDPNJGGGVIF0IZ&marketplace=FLIPKART&q=Sunglasses&store=26x&srno=s_1_10&otracker=search&otracker1=search&fm=SEARCH&iid=620fa649-e706-4cbb-9d64-5319c4337ee4.SGLFKYGHRDPNJGGG.SEARCH&ppt=hp&ppn=homepage&ssid=7d4b2fjeps0000001628798394533&qH=0ff7a11a5902c9f7',\n",
       " 'https://www.flipkart.com/sunbee-round-sunglasses/p/itmb550c957e1689?pid=SGLFUHKVTHSJMKTM&lid=LSTSGLFUHKVTHSJMKTMTM6LJ0&marketplace=FLIPKART&q=Sunglasses&store=26x&srno=s_1_11&otracker=search&otracker1=search&fm=SEARCH&iid=620fa649-e706-4cbb-9d64-5319c4337ee4.SGLFUHKVTHSJMKTM.SEARCH&ppt=hp&ppn=homepage&ssid=7d4b2fjeps0000001628798394533&qH=0ff7a11a5902c9f7',\n",
       " 'https://www.flipkart.com/silver-kartz-aviator-sunglasses/p/itmf7g4z46kyvvex?pid=SGLF7G35FTKPBPNB&lid=LSTSGLF7G35FTKPBPNBKCRBRJ&marketplace=FLIPKART&q=Sunglasses&store=26x&srno=s_1_12&otracker=search&otracker1=search&fm=SEARCH&iid=en_Pnlm8YSPVsRiD9y2y7iUVBA7KKXI8O7O4FwHYTnUCQLZiQdpU0SQ74mWKEOnfMlpJf0t3rpOUSBfUYTgHpsAEw%3D%3D&ppt=hp&ppn=homepage&ssid=7d4b2fjeps0000001628798394533&qH=0ff7a11a5902c9f7',\n",
       " 'https://www.flipkart.com/fastrack-aviator-sunglasses/p/itmfcynnapsxpzxv?pid=SGLES2WMN7PCAERZ&lid=LSTSGLES2WMN7PCAERZZTPY54&marketplace=FLIPKART&q=Sunglasses&store=26x&srno=s_1_13&otracker=search&otracker1=search&fm=SEARCH&iid=620fa649-e706-4cbb-9d64-5319c4337ee4.SGLES2WMN7PCAERZ.SEARCH&ppt=hp&ppn=homepage&ssid=7d4b2fjeps0000001628798394533&qH=0ff7a11a5902c9f7',\n",
       " 'https://www.flipkart.com/shaah-collections-rectangular-sunglasses/p/itm201340b1c3e13?pid=SGLFXWGV5TGFFSPX&lid=LSTSGLFXWGV5TGFFSPXSORUG9&marketplace=FLIPKART&q=Sunglasses&store=26x&spotlightTagId=TrendingId_26x&srno=s_1_14&otracker=search&otracker1=search&fm=SEARCH&iid=620fa649-e706-4cbb-9d64-5319c4337ee4.SGLFXWGV5TGFFSPX.SEARCH&ppt=hp&ppn=homepage&ssid=7d4b2fjeps0000001628798394533&qH=0ff7a11a5902c9f7',\n",
       " 'https://www.flipkart.com/fastrack-aviator-sunglasses/p/itm3d6674f888d98?pid=SGLFKYGHKP4BXEMH&lid=LSTSGLFKYGHKP4BXEMHAL1IED&marketplace=FLIPKART&q=Sunglasses&store=26x&srno=s_1_15&otracker=search&otracker1=search&fm=SEARCH&iid=620fa649-e706-4cbb-9d64-5319c4337ee4.SGLFKYGHKP4BXEMH.SEARCH&ppt=hp&ppn=homepage&ssid=7d4b2fjeps0000001628798394533&qH=0ff7a11a5902c9f7',\n",
       " 'https://www.flipkart.com/rozzetta-craft-round-sunglasses/p/itm50b1a774b7e0d?pid=SGLFMFKYUQNWGHWT&lid=LSTSGLFMFKYUQNWGHWTZ6YYV4&marketplace=FLIPKART&q=Sunglasses&store=26x&srno=s_1_16&otracker=search&otracker1=search&fm=SEARCH&iid=en_Pnlm8YSPVsRiD9y2y7iUVBA7KKXI8O7O4FwHYTnUCQLCHy%2FUvpHDJNcJGiVPjSiFXdN6e88JORzOxPhEAnQamw%3D%3D&ppt=hp&ppn=homepage&ssid=7d4b2fjeps0000001628798394533&qH=0ff7a11a5902c9f7',\n",
       " 'https://www.flipkart.com/phenomenal-retro-square-sunglasses/p/itm05605e75ed801?pid=SGLFUXYAXFHYQAK4&lid=LSTSGLFUXYAXFHYQAK4VF4MKG&marketplace=FLIPKART&q=Sunglasses&store=26x&srno=s_1_17&otracker=search&otracker1=search&fm=SEARCH&iid=620fa649-e706-4cbb-9d64-5319c4337ee4.SGLFUXYAXFHYQAK4.SEARCH&ppt=hp&ppn=homepage&ssid=7d4b2fjeps0000001628798394533&qH=0ff7a11a5902c9f7',\n",
       " 'https://www.flipkart.com/fastrack-wayfarer-sunglasses/p/itmf79dqccyjbdez?pid=SGLF79DQNHPY9N6U&lid=LSTSGLF79DQNHPY9N6UHBMJVE&marketplace=FLIPKART&q=Sunglasses&store=26x&srno=s_1_18&otracker=search&otracker1=search&fm=SEARCH&iid=620fa649-e706-4cbb-9d64-5319c4337ee4.SGLF79DQNHPY9N6U.SEARCH&ppt=hp&ppn=homepage&ssid=7d4b2fjeps0000001628798394533&qH=0ff7a11a5902c9f7',\n",
       " 'https://www.flipkart.com/fastrack-wayfarer-sunglasses/p/itma9864babc060c?pid=SGLFG94CV3EVXTZE&lid=LSTSGLFG94CV3EVXTZEPQ88ZR&marketplace=FLIPKART&q=Sunglasses&store=26x&srno=s_1_19&otracker=search&otracker1=search&fm=SEARCH&iid=620fa649-e706-4cbb-9d64-5319c4337ee4.SGLFG94CV3EVXTZE.SEARCH&ppt=hp&ppn=homepage&ssid=7d4b2fjeps0000001628798394533&qH=0ff7a11a5902c9f7',\n",
       " 'https://www.flipkart.com/royal-son-over-sized-sunglasses/p/itmc7b1876b4b36d?pid=SGLFNFU98QFFTR2C&lid=LSTSGLFNFU98QFFTR2CJNNUEV&marketplace=FLIPKART&q=Sunglasses&store=26x&srno=s_1_20&otracker=search&otracker1=search&fm=SEARCH&iid=en_Pnlm8YSPVsRiD9y2y7iUVBA7KKXI8O7O4FwHYTnUCQJNXLnaCJotuMF2WncUT%2Flqn3xH4mrL3pk54ueA4ggoaw%3D%3D&ppt=hp&ppn=homepage&ssid=7d4b2fjeps0000001628798394533&qH=0ff7a11a5902c9f7',\n",
       " 'https://www.flipkart.com/kingsunglasses-rectangular-sunglasses/p/itm64b34ea1657a8?pid=SGLFY9FKJNVPJWGY&lid=LSTSGLFY9FKJNVPJWGY0JURHX&marketplace=FLIPKART&q=Sunglasses&store=26x&srno=s_1_21&otracker=search&otracker1=search&fm=SEARCH&iid=620fa649-e706-4cbb-9d64-5319c4337ee4.SGLFY9FKJNVPJWGY.SEARCH&ppt=hp&ppn=homepage&ssid=7d4b2fjeps0000001628798394533&qH=0ff7a11a5902c9f7',\n",
       " 'https://www.flipkart.com/piraso-aviator-sunglasses/p/itma9ed6fe9b3b86?pid=SGLFZJQUNAHYUCAS&lid=LSTSGLFZJQUNAHYUCASKDXKTE&marketplace=FLIPKART&q=Sunglasses&store=26x&srno=s_1_22&otracker=search&otracker1=search&fm=SEARCH&iid=620fa649-e706-4cbb-9d64-5319c4337ee4.SGLFZJQUNAHYUCAS.SEARCH&ppt=hp&ppn=homepage&ssid=7d4b2fjeps0000001628798394533&qH=0ff7a11a5902c9f7',\n",
       " 'https://www.flipkart.com/rozzetta-craft-rectangular-sunglasses/p/itmc07cb7e8aec50?pid=SGLFSZV6PXGZGZGX&lid=LSTSGLFSZV6PXGZGZGXNWELSX&marketplace=FLIPKART&q=Sunglasses&store=26x&srno=s_1_23&otracker=search&otracker1=search&fm=SEARCH&iid=620fa649-e706-4cbb-9d64-5319c4337ee4.SGLFSZV6PXGZGZGX.SEARCH&ppt=hp&ppn=homepage&ssid=7d4b2fjeps0000001628798394533&qH=0ff7a11a5902c9f7',\n",
       " 'https://www.flipkart.com/wrogn-aviator-sunglasses/p/itm7fa19a4b466b9?pid=SGLFVHMCXQNMYGTY&lid=LSTSGLFVHMCXQNMYGTYZI7OT5&marketplace=FLIPKART&q=Sunglasses&store=26x&srno=s_1_24&otracker=search&otracker1=search&fm=SEARCH&iid=en_Pnlm8YSPVsRiD9y2y7iUVBA7KKXI8O7O4FwHYTnUCQLwsoMx11pQAt85XedpuEe%2FJjTQmxBYEbEYFVQ0Qc4UpQ%3D%3D&ppt=hp&ppn=homepage&ssid=7d4b2fjeps0000001628798394533&qH=0ff7a11a5902c9f7',\n",
       " 'https://www.flipkart.com/gansta-aviator-sunglasses/p/itmf7hmfp5r8hcdb?pid=SGLF7HGZKHHSTQ8H&lid=LSTSGLF7HGZKHHSTQ8H5VK4WX&marketplace=FLIPKART&q=Sunglasses&store=26x&srno=s_1_25&otracker=search&otracker1=search&fm=SEARCH&iid=620fa649-e706-4cbb-9d64-5319c4337ee4.SGLF7HGZKHHSTQ8H.SEARCH&ppt=hp&ppn=homepage&ssid=7d4b2fjeps0000001628798394533&qH=0ff7a11a5902c9f7',\n",
       " 'https://www.flipkart.com/kingsunglasses-round-sunglasses/p/itmfb9juuhzg79rv?pid=SGLFB9GQVKJZGNDG&lid=LSTSGLFB9GQVKJZGNDGMUY598&marketplace=FLIPKART&q=Sunglasses&store=26x&srno=s_1_26&otracker=search&otracker1=search&fm=SEARCH&iid=620fa649-e706-4cbb-9d64-5319c4337ee4.SGLFB9GQVKJZGNDG.SEARCH&ppt=hp&ppn=homepage&ssid=7d4b2fjeps0000001628798394533&qH=0ff7a11a5902c9f7',\n",
       " 'https://www.flipkart.com/piraso-aviator-sunglasses/p/itm4210bb67b2728?pid=SGLFPFD7WRNASWSV&lid=LSTSGLFPFD7WRNASWSVJLGDDX&marketplace=FLIPKART&q=Sunglasses&store=26x&srno=s_1_27&otracker=search&otracker1=search&fm=SEARCH&iid=620fa649-e706-4cbb-9d64-5319c4337ee4.SGLFPFD7WRNASWSV.SEARCH&ppt=hp&ppn=homepage&ssid=7d4b2fjeps0000001628798394533&qH=0ff7a11a5902c9f7',\n",
       " 'https://www.flipkart.com/silver-kartz-oval-sunglasses/p/itmc94e3930bd8cc?pid=SGLFJV3YYK6SA2AF&lid=LSTSGLFJV3YYK6SA2AFMOZ78N&marketplace=FLIPKART&q=Sunglasses&store=26x&srno=s_1_28&otracker=search&otracker1=search&fm=SEARCH&iid=en_Pnlm8YSPVsRiD9y2y7iUVBA7KKXI8O7O4FwHYTnUCQJ1BKeVLS9vONGL7zRIYUwfLik1t3iYeVC0xCvYYGJyKg%3D%3D&ppt=hp&ppn=homepage&ssid=7d4b2fjeps0000001628798394533&qH=0ff7a11a5902c9f7',\n",
       " 'https://www.flipkart.com/elligator-round-sunglasses/p/itm88859d649c827?pid=SGLFBB8BVXGUHYEY&lid=LSTSGLFBB8BVXGUHYEYK1NPCL&marketplace=FLIPKART&q=Sunglasses&store=26x&srno=s_1_29&otracker=search&otracker1=search&fm=SEARCH&iid=620fa649-e706-4cbb-9d64-5319c4337ee4.SGLFBB8BVXGUHYEY.SEARCH&ppt=hp&ppn=homepage&ssid=7d4b2fjeps0000001628798394533&qH=0ff7a11a5902c9f7',\n",
       " 'https://www.flipkart.com/silver-kartz-wayfarer-sunglasses/p/itmf3ykz37jypbdd?pid=SGLEXSP4CY6G2ZTY&lid=LSTSGLEXSP4CY6G2ZTYGHVAAN&marketplace=FLIPKART&q=Sunglasses&store=26x&srno=s_1_30&otracker=search&otracker1=search&fm=SEARCH&iid=620fa649-e706-4cbb-9d64-5319c4337ee4.SGLEXSP4CY6G2ZTY.SEARCH&ppt=hp&ppn=homepage&ssid=7d4b2fjeps0000001628798394533&qH=0ff7a11a5902c9f7',\n",
       " 'https://www.flipkart.com/rozzetta-craft-retro-square-sunglasses/p/itmf248ba5b3a895?pid=SGLFZFZNAQNZHYB7&lid=LSTSGLFZFZNAQNZHYB7GZ3YO5&marketplace=FLIPKART&q=Sunglasses&store=26x&srno=s_1_31&otracker=search&otracker1=search&fm=SEARCH&iid=620fa649-e706-4cbb-9d64-5319c4337ee4.SGLFZFZNAQNZHYB7.SEARCH&ppt=hp&ppn=homepage&ssid=7d4b2fjeps0000001628798394533&qH=0ff7a11a5902c9f7',\n",
       " 'https://www.flipkart.com/royal-son-retro-square-sunglasses/p/itm212388ef7fc65?pid=SGLFNFU4MMKYSCFH&lid=LSTSGLFNFU4MMKYSCFHCNIBKD&marketplace=FLIPKART&q=Sunglasses&store=26x&srno=s_1_32&otracker=search&otracker1=search&fm=SEARCH&iid=en_Pnlm8YSPVsRiD9y2y7iUVBA7KKXI8O7O4FwHYTnUCQLRbEC%2FyB4nAIhnuKi36EThl9RyuLAmn1gKqb5FjUmCnQ%3D%3D&ppt=hp&ppn=homepage&ssid=7d4b2fjeps0000001628798394533&qH=0ff7a11a5902c9f7',\n",
       " 'https://www.flipkart.com/fravy-retro-square-sunglasses/p/itm04fda6395be09?pid=SGLFVSMZSXHDR3QG&lid=LSTSGLFVSMZSXHDR3QGLQ4IJX&marketplace=FLIPKART&q=Sunglasses&store=26x&srno=s_1_33&otracker=search&otracker1=search&fm=SEARCH&iid=620fa649-e706-4cbb-9d64-5319c4337ee4.SGLFVSMZSXHDR3QG.SEARCH&ppt=hp&ppn=homepage&ssid=7d4b2fjeps0000001628798394533&qH=0ff7a11a5902c9f7',\n",
       " 'https://www.flipkart.com/fravy-wayfarer-sunglasses/p/itmfgfawyeuxjca4?pid=SGLFGFYPYHHANNSH&lid=LSTSGLFGFYPYHHANNSHUS4FPA&marketplace=FLIPKART&q=Sunglasses&store=26x&srno=s_1_34&otracker=search&otracker1=search&fm=SEARCH&iid=620fa649-e706-4cbb-9d64-5319c4337ee4.SGLFGFYPYHHANNSH.SEARCH&ppt=hp&ppn=homepage&ssid=7d4b2fjeps0000001628798394533&qH=0ff7a11a5902c9f7',\n",
       " 'https://www.flipkart.com/hipe-round-sunglasses/p/itm05dde0582be36?pid=SGLFQETNDUT4ZRPX&lid=LSTSGLFQETNDUT4ZRPXSFWXQA&marketplace=FLIPKART&q=Sunglasses&store=26x&srno=s_1_35&otracker=search&otracker1=search&fm=SEARCH&iid=620fa649-e706-4cbb-9d64-5319c4337ee4.SGLFQETNDUT4ZRPX.SEARCH&ppt=hp&ppn=homepage&ssid=7d4b2fjeps0000001628798394533&qH=0ff7a11a5902c9f7',\n",
       " 'https://www.flipkart.com/aislin-round-cat-eye-sunglasses/p/itmdffba3de386a3?pid=SGLFRGTAYZW9JJPP&lid=LSTSGLFRGTAYZW9JJPPL3YXHO&marketplace=FLIPKART&q=Sunglasses&store=26x&srno=s_1_36&otracker=search&otracker1=search&fm=SEARCH&iid=en_Pnlm8YSPVsRiD9y2y7iUVBA7KKXI8O7O4FwHYTnUCQLDOXTtj0%2B%2BShHMKeKMOrpC52Hdx0Y2Cua%2FuvguSyWR9g%3D%3D&ppt=hp&ppn=homepage&ssid=7d4b2fjeps0000001628798394533&qH=0ff7a11a5902c9f7',\n",
       " 'https://www.flipkart.com/phenomenal-retro-square-sunglasses/p/itm1ead9ddbbb3d8?pid=SGLFUBFWNBFEAVD3&lid=LSTSGLFUBFWNBFEAVD31E0HIC&marketplace=FLIPKART&q=Sunglasses&store=26x&srno=s_1_37&otracker=search&otracker1=search&fm=SEARCH&iid=620fa649-e706-4cbb-9d64-5319c4337ee4.SGLFUBFWNBFEAVD3.SEARCH&ppt=hp&ppn=homepage&ssid=7d4b2fjeps0000001628798394533&qH=0ff7a11a5902c9f7',\n",
       " 'https://www.flipkart.com/fastrack-sports-sunglasses/p/itmf79dpvhr2g5hp?pid=SGLF79DPDUUZSC2E&lid=LSTSGLF79DPDUUZSC2ELCU1X2&marketplace=FLIPKART&q=Sunglasses&store=26x&srno=s_1_38&otracker=search&otracker1=search&fm=SEARCH&iid=620fa649-e706-4cbb-9d64-5319c4337ee4.SGLF79DPDUUZSC2E.SEARCH&ppt=hp&ppn=homepage&ssid=7d4b2fjeps0000001628798394533&qH=0ff7a11a5902c9f7',\n",
       " 'https://www.flipkart.com/singco-india-aviator-wayfarer-sunglasses/p/itmf5b6c6e88f44a?pid=SGLFF9BTZUQZGZ3H&lid=LSTSGLFF9BTZUQZGZ3HMQDMDM&marketplace=FLIPKART&q=Sunglasses&store=26x&srno=s_1_39&otracker=search&otracker1=search&fm=SEARCH&iid=620fa649-e706-4cbb-9d64-5319c4337ee4.SGLFF9BTZUQZGZ3H.SEARCH&ppt=hp&ppn=homepage&ssid=7d4b2fjeps0000001628798394533&qH=0ff7a11a5902c9f7',\n",
       " 'https://www.flipkart.com/vincent-chase-lenskart-cat-eye-sunglasses/p/itmdfecc14bb8608?pid=SGLFZSP4GTABU7UE&lid=LSTSGLFZSP4GTABU7UEOHHHKU&marketplace=FLIPKART&q=Sunglasses&store=26x&srno=s_1_40&otracker=search&otracker1=search&fm=SEARCH&iid=en_Pnlm8YSPVsRiD9y2y7iUVBA7KKXI8O7O4FwHYTnUCQK4dschHA74kmaHUUJh4ihhhXrXQedU86NfRwATCRl5Xg%3D%3D&ppt=hp&ppn=homepage&ssid=7d4b2fjeps0000001628798394533&qH=0ff7a11a5902c9f7']"
      ]
     },
     "execution_count": 90,
     "metadata": {},
     "output_type": "execute_result"
    }
   ],
   "source": [
    "urls"
   ]
  },
  {
   "cell_type": "code",
   "execution_count": 91,
   "metadata": {},
   "outputs": [
    {
     "data": {
      "text/plain": [
       "40"
      ]
     },
     "execution_count": 91,
     "metadata": {},
     "output_type": "execute_result"
    }
   ],
   "source": [
    "len(urls) # length of our list"
   ]
  },
  {
   "cell_type": "code",
   "execution_count": 111,
   "metadata": {},
   "outputs": [],
   "source": [
    "description = [] # Empty list to store the description\n",
    "for i in urls[:3]:\n",
    "    driver.get(i)\n",
    "    try:\n",
    "        desc = driver.find_element_by_xpath(\"//div[@class = '_2yIA0Y']\")\n",
    "        description.append(desc.text)\n",
    "    except:\n",
    "        description.append('--')\n",
    "    "
   ]
  },
  {
   "cell_type": "code",
   "execution_count": 2,
   "metadata": {},
   "outputs": [],
   "source": [
    "description"
   ]
  },
  {
   "cell_type": "code",
   "execution_count": null,
   "metadata": {},
   "outputs": [],
   "source": []
  }
 ],
 "metadata": {
  "kernelspec": {
   "display_name": "Python 3",
   "language": "python",
   "name": "python3"
  },
  "language_info": {
   "codemirror_mode": {
    "name": "ipython",
    "version": 3
   },
   "file_extension": ".py",
   "mimetype": "text/x-python",
   "name": "python",
   "nbconvert_exporter": "python",
   "pygments_lexer": "ipython3",
   "version": "3.8.5"
  }
 },
 "nbformat": 4,
 "nbformat_minor": 4
}
