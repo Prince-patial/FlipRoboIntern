{
 "cells": [
  {
   "cell_type": "markdown",
   "metadata": {},
   "source": [
    "# 1. Write a python program which searches all the product under a particular product vertical from www.amazon.in. The product verticals to be searched will be taken as input from user. For e.g. If user input is ‘guitar’. Then search for guitars.\n",
    "\n"
   ]
  },
  {
   "cell_type": "code",
   "execution_count": 106,
   "metadata": {},
   "outputs": [
    {
     "name": "stdout",
     "output_type": "stream",
     "text": [
      "Requirement already satisfied: mechanize in c:\\users\\prince\\anaconda3\\lib\\site-packages (0.4.5)Note: you may need to restart the kernel to use updated packages.\n",
      "\n",
      "Requirement already satisfied: html5lib>=0.999999999 in c:\\users\\prince\\anaconda3\\lib\\site-packages (from mechanize) (1.1)\n",
      "Requirement already satisfied: webencodings in c:\\users\\prince\\anaconda3\\lib\\site-packages (from html5lib>=0.999999999->mechanize) (0.5.1)\n",
      "Requirement already satisfied: six>=1.9 in c:\\users\\prince\\anaconda3\\lib\\site-packages (from html5lib>=0.999999999->mechanize) (1.15.0)\n"
     ]
    }
   ],
   "source": [
    "pip install mechanize"
   ]
  },
  {
   "cell_type": "code",
   "execution_count": 1,
   "metadata": {},
   "outputs": [],
   "source": [
    "#Importing necessary libraries\n",
    "import selenium\n",
    "# import mechanize\n",
    "import time\n",
    "import pandas as pd\n",
    "from selenium import webdriver # importing webdriver\n",
    "driver = webdriver.Edge(\"msedgedriver.exe\") #Initialising our driver"
   ]
  },
  {
   "cell_type": "code",
   "execution_count": 108,
   "metadata": {},
   "outputs": [],
   "source": [
    "url = \"https://www.amazon.in/\" # assign web address to our variable\n",
    "driver.get(url) #get webpage\n"
   ]
  },
  {
   "cell_type": "code",
   "execution_count": 109,
   "metadata": {},
   "outputs": [],
   "source": [
    "# import mechanize\n",
    "# brwsr = mechanize.Browser()\n",
    "# brwsr.open(url)\n",
    "# brwsr.select_form(nr = 0)\n",
    "# item = input ()\n"
   ]
  },
  {
   "cell_type": "code",
   "execution_count": 110,
   "metadata": {},
   "outputs": [],
   "source": [
    "# brwsr['item'] = input ()\n",
    "# response = brwsr.submit()\n",
    "# brwsr.submit()"
   ]
  },
  {
   "cell_type": "code",
   "execution_count": 111,
   "metadata": {},
   "outputs": [
    {
     "name": "stdout",
     "output_type": "stream",
     "text": [
      "Enter the product you want to search : Refrigerator\n"
     ]
    }
   ],
   "source": [
    "user_inp = input('Enter the product you want to search : ')\n"
   ]
  },
  {
   "cell_type": "code",
   "execution_count": 112,
   "metadata": {},
   "outputs": [],
   "source": [
    "search_bar = driver.find_element_by_id('twotabsearchtextbox') # finding web_element for search job\n",
    "search_bar.send_keys(user_inp)\n",
    "\n"
   ]
  },
  {
   "cell_type": "code",
   "execution_count": null,
   "metadata": {},
   "outputs": [],
   "source": []
  },
  {
   "cell_type": "code",
   "execution_count": 113,
   "metadata": {},
   "outputs": [],
   "source": [
    "search_btn = driver.find_element_by_id('nav-search-submit-button')\n",
    "search_btn.click()\n"
   ]
  },
  {
   "cell_type": "markdown",
   "metadata": {},
   "source": [
    "# 2. In the above question, now scrape the following details of each product listed in first 3 pages of your search results and save it in a data frame and csv. In case if any product vertical has less than 3 pages in search results then scrape all the products available under that product vertical. Details to be scraped are: \"Brand Name\", \"Name of the Product\", \"Rating\", \"No. of Ratings\", \"Price\", \"Return/Exchange\", \"Expected Delivery\", \"Availability\", \"Other Details\" and “Product URL”. In case, if any of the details are missing for any of the product then replace it by “-“.\n",
    "\n",
    " \n",
    "\n",
    "\n",
    "\n"
   ]
  },
  {
   "cell_type": "code",
   "execution_count": 114,
   "metadata": {},
   "outputs": [],
   "source": [
    "# Brand_name = []\n",
    "# Name = []\n",
    "# Rating = []\n",
    "# Ratings = []\n",
    "# Price = []\n",
    "# Return = []\n",
    "# Expected_delivery = []\n",
    "# Availability = []\n",
    "# Other_details = []\n",
    "# Product_url = []\n"
   ]
  },
  {
   "cell_type": "code",
   "execution_count": 115,
   "metadata": {},
   "outputs": [
    {
     "data": {
      "text/plain": [
       "['AmazonBasics 411L 2 Star Frost-free Double Door Refrigerator',\n",
       " 'Samsung 324L 3 Star Inverter Frost Free Double Door Refrigerator (RT34T4513S8/HL, Elegant Inox, Convertible)',\n",
       " 'Samsung 192 L 2 Star Direct Cool Single Door Refrigerator (RR19A241BGS/NL, Grey Silver)',\n",
       " 'Samsung 230 L 3 Star Inverter Single Door Refrigerator (RR24A2Y2YS8/NL, Elegant Inox)',\n",
       " 'Haier 195 L 4 Star Direct-Cool Single-Door Refrigerator (HED- 20CFDS, Dazzle Steel)',\n",
       " 'Samsung 198 L 4 Star Inverter Direct-Cool Single Door Refrigerator (RR21T2H2XCR/HL, Camellia Purple, Base Stand with Drawer)',\n",
       " 'Whirlpool 190 L 3 Star Direct-Cool Single Door Refrigerator (WDE 205 CLS 3S, Blue)',\n",
       " 'Godrej 185 L 4 Star Inverter Direct-Cool Single Door Refrigerator (RD UNO 1854 PTI AQ BL, Aqua Blue)',\n",
       " 'LG 190 L 4 Star Inverter Direct-Cool Single Door Refrigerator (GL-D201ASCY, Scarlet Charm, Base stand with Drawer)',\n",
       " 'Samsung 198 L 4 Star Inverter Direct Cool Single Door Refrigerator (RR21A2C2XDX/HL, Luxe Brown, Digi-Touch Cool)',\n",
       " 'AmazonBasics 564 L Side-by-Side Door Refrigerator (Black Glass Door)',\n",
       " 'AmazonBasics 468 L Frost Free Side-By-Side Refrigerator',\n",
       " 'Haier 195 L 3 Star Direct-Cool Single Door Refrigerator (HRD-1953CKS-E, Black Brushline)',\n",
       " 'Samsung 253 L 3 Star with Inverter Double Door Refrigerator (RT28A3453S8/HL, Elegant Inox)',\n",
       " 'Samsung 225 L 4 Star Inverter Direct Cool Single Door Refrigerator(RR23A2F3X9U/HL, Paradise Blue, Base Stand with Drawer, Digi-Touch Cool)',\n",
       " 'Candy 190 L 2 Star Direct-Cool Single Door Refrigerator (CDSD522190MS, Moon Silver,Turbo Icing Technology)',\n",
       " 'Samsung 192 L 3 Star Inverter Direct Cool Single Door Refrigerator (RR20A1Y2YR8/HL, Saffron Red)',\n",
       " 'Candy 170 L 2 Star Direct-Cool Single Door Refrigerator (CDSD522170MS, Moon Silver, Turbo Icing Technology)',\n",
       " 'Haier 53 L 2 Star Direct-Cool Single Door Mini Refrigerator (HR-65KS, Black)',\n",
       " 'Whirlpool 190 L 3 Star Single Door Refrigerator (WDE 205 CLS PLUS 3S, Sapphire Radiance)',\n",
       " 'AmazonBasics 564 L Side-by-Side Door Refrigerator (Silver Steel Finish)',\n",
       " 'Samsung 345L 3 Star Inverter Frost Free Double Door Refrigerator (RT37T4513S8/HL, Elegant Inox, Convertible)']"
      ]
     },
     "execution_count": 115,
     "metadata": {},
     "output_type": "execute_result"
    }
   ],
   "source": [
    "Brand_name = []\n",
    "Name = []\n",
    "brand = driver.find_elements_by_xpath(\"//span[@class = 'a-size-medium a-color-base a-text-normal']\")\n",
    "for i in brand:\n",
    "    Brand_name.append(i.text)\n",
    "\n",
    "Brand_name\n"
   ]
  },
  {
   "cell_type": "code",
   "execution_count": 116,
   "metadata": {},
   "outputs": [
    {
     "data": {
      "text/plain": [
       "['AmazonBasics',\n",
       " 'Samsung',\n",
       " 'Samsung',\n",
       " 'Samsung',\n",
       " 'Haier',\n",
       " 'Samsung',\n",
       " 'Whirlpool',\n",
       " 'Godrej',\n",
       " 'LG',\n",
       " 'Samsung',\n",
       " 'AmazonBasics',\n",
       " 'AmazonBasics',\n",
       " 'Haier',\n",
       " 'Samsung',\n",
       " 'Samsung',\n",
       " 'Candy',\n",
       " 'Samsung',\n",
       " 'Candy',\n",
       " 'Haier',\n",
       " 'Whirlpool',\n",
       " 'AmazonBasics',\n",
       " 'Samsung']"
      ]
     },
     "execution_count": 116,
     "metadata": {},
     "output_type": "execute_result"
    }
   ],
   "source": [
    "Name = []\n",
    "for i in Brand_name:\n",
    "    Name.append(i.split()[0])\n",
    "Name\n",
    "#     Name.append(Brand_name[i].split()[0])\n"
   ]
  },
  {
   "cell_type": "code",
   "execution_count": null,
   "metadata": {},
   "outputs": [],
   "source": []
  },
  {
   "cell_type": "code",
   "execution_count": 117,
   "metadata": {},
   "outputs": [
    {
     "data": {
      "text/plain": [
       "['https://www.amazon.in/gp/slredirect/picassoRedirect.html/ref=pa_sp_atf_aps_sr_pg1_1?ie=UTF8&adId=A06804963GK32Y6LBW99W&url=%2FAmazonBasics-AB2019RF007-Refrigerator-Model-7%2Fdp%2FB07R9NJMGB%2Fref%3Dsr_1_1_sspa%3Fdchild%3D1%26keywords%3DRefrigerator%26qid%3D1629551602%26sr%3D8-1-spons%26psc%3D1&qualifier=1629551602&id=7997528104342651&widgetName=sp_atf',\n",
       " 'https://www.amazon.in/gp/slredirect/picassoRedirect.html/ref=pa_sp_atf_aps_sr_pg1_1?ie=UTF8&adId=A0566057HH7BSBYEZGBR&url=%2FSamsung-Refrigerator-RT34T4513S8-HL-Convertible%2Fdp%2FB08345R1ZW%2Fref%3Dsr_1_2_sspa%3Fdchild%3D1%26keywords%3DRefrigerator%26qid%3D1629551602%26sr%3D8-2-spons%26psc%3D1&qualifier=1629551602&id=7997528104342651&widgetName=sp_atf',\n",
       " 'https://www.amazon.in/Samsung-Direct-Refrigerator-RR19A241BGS-NL/dp/B08SC2ZTDP/ref=sr_1_3?dchild=1&keywords=Refrigerator&qid=1629551602&sr=8-3',\n",
       " 'https://www.amazon.in/Samsung-Inverter-Refrigerator-RR24A2Y2YS8-NL/dp/B08SC26TC4/ref=sr_1_4?dchild=1&keywords=Refrigerator&qid=1629551602&sr=8-4',\n",
       " 'https://www.amazon.in/Haier-Direct-Cool-Single-Door-Refrigerator-20CFDS/dp/B084496YFG/ref=sr_1_5?dchild=1&keywords=Refrigerator&qid=1629551602&sr=8-5',\n",
       " 'https://www.amazon.in/Samsung-Direct-Cool-Refrigerator-RR21T2H2XCR-HL/dp/B08446154L/ref=sr_1_6?dchild=1&keywords=Refrigerator&qid=1629551602&sr=8-6',\n",
       " 'https://www.amazon.in/Whirlpool-Refrigerator-WDE-205-CLS/dp/B083KVZQ7Z/ref=sr_1_7?dchild=1&keywords=Refrigerator&qid=1629551602&sr=8-7',\n",
       " 'https://www.amazon.in/Godrej-Inverter-Direct-Cool-Single-Refrigerator/dp/B08VJ4R17W/ref=sr_1_8?dchild=1&keywords=Refrigerator&qid=1629551602&sr=8-8',\n",
       " 'https://www.amazon.in/LG-Inverter-Direct-Cool-Refrigerator-GL-D201ASCY/dp/B084YC1FHT/ref=sr_1_9?dchild=1&keywords=Refrigerator&qid=1629551602&sr=8-9',\n",
       " 'https://www.amazon.in/Samsung-Refrigerator-RR21A2C2XDX-HL-Digi-Touch/dp/B08T1T28L5/ref=sr_1_10?dchild=1&keywords=Refrigerator&qid=1629551602&sr=8-10',\n",
       " 'https://www.amazon.in/gp/slredirect/picassoRedirect.html/ref=pa_sp_mtf_aps_sr_pg1_1?ie=UTF8&adId=A064387226MPBI3BTS6FC&url=%2FAmazonBasics-Frost-Side-Refrigerator-Dispenser%2Fdp%2FB07R9NJCVZ%2Fref%3Dsr_1_11_sspa%3Fdchild%3D1%26keywords%3DRefrigerator%26qid%3D1629551602%26sr%3D8-11-spons%26psc%3D1&qualifier=1629551602&id=7997528104342651&widgetName=sp_mtf',\n",
       " 'https://www.amazon.in/gp/slredirect/picassoRedirect.html/ref=pa_sp_mtf_aps_sr_pg1_1?ie=UTF8&adId=A03341332H4K01LXJ1VK6&url=%2FAmazonBasics-AB2019RF008-Refrigerator-Model-8%2Fdp%2FB07R59VSRG%2Fref%3Dsr_1_12_sspa%3Fdchild%3D1%26keywords%3DRefrigerator%26qid%3D1629551602%26sr%3D8-12-spons%26psc%3D1&qualifier=1629551602&id=7997528104342651&widgetName=sp_mtf',\n",
       " 'https://www.amazon.in/Haier-Direct-Cool-Refrigerator-HRD-1953CKS-Brushline/dp/B084HZPTBP/ref=sr_1_13?dchild=1&keywords=Refrigerator&qid=1629551602&sr=8-13',\n",
       " 'https://www.amazon.in/Samsung-Inverter-Refrigerator-RT28A3453S8-HL/dp/B08SBSL8Y2/ref=sr_1_14?dchild=1&keywords=Refrigerator&qid=1629551602&sr=8-14',\n",
       " 'https://www.amazon.in/Samsung-Refrigerator-RR23A2F3X9U-HL-Digi-Touch/dp/B08SM5GCD8/ref=sr_1_15?dchild=1&keywords=Refrigerator&qid=1629551602&sr=8-15',\n",
       " 'https://www.amazon.in/Candy-Direct-Cool-Refrigerator-CDSD522190MS-Technology/dp/B08Z878LCJ/ref=sr_1_16?dchild=1&keywords=Refrigerator&qid=1629551602&sr=8-16',\n",
       " 'https://www.amazon.in/Samsung-Inverter-Refrigerator-RR20A1Y2YR8-HL/dp/B08RZ2SYFG/ref=sr_1_17?dchild=1&keywords=Refrigerator&qid=1629551602&sr=8-17',\n",
       " 'https://www.amazon.in/Candy-Direct-Cool-Refrigerator-CDSD522170MS-Technology/dp/B08Z7CTKQG/ref=sr_1_18?dchild=1&keywords=Refrigerator&qid=1629551602&sr=8-18',\n",
       " 'https://www.amazon.in/Haier-Direct-Cool-Single-Desktop-HR-65KS/dp/B08LF1Z4S2/ref=sr_1_19?dchild=1&keywords=Refrigerator&qid=1629551602&sr=8-19',\n",
       " 'https://www.amazon.in/Whirlpool-Single-Refrigerator-Sapphire-Radiance/dp/B0982Y9C1C/ref=sr_1_20?dchild=1&keywords=Refrigerator&qid=1629551602&sr=8-20',\n",
       " 'https://www.amazon.in/gp/slredirect/picassoRedirect.html/ref=pa_sp_btf_aps_sr_pg1_1?ie=UTF8&adId=A07759581GU237VRQ8DZQ&url=%2FAmazonBasics-Refrigerator-Dispenser-Silver-Finish%2Fdp%2FB07R9NJFYF%2Fref%3Dsr_1_21_sspa%3Fdchild%3D1%26keywords%3DRefrigerator%26qid%3D1629551602%26sr%3D8-21-spons%26psc%3D1&qualifier=1629551602&id=7997528104342651&widgetName=sp_btf',\n",
       " 'https://www.amazon.in/gp/slredirect/picassoRedirect.html/ref=pa_sp_btf_aps_sr_pg1_1?ie=UTF8&adId=A097109036LWZ5KY4B5BB&url=%2FSamsung-Refrigerator-RT37T4513S8-HL-Convertible%2Fdp%2FB08345Q835%2Fref%3Dsr_1_22_sspa%3Fdchild%3D1%26keywords%3DRefrigerator%26qid%3D1629551602%26sr%3D8-22-spons%26psc%3D1&qualifier=1629551602&id=7997528104342651&widgetName=sp_btf']"
      ]
     },
     "execution_count": 117,
     "metadata": {},
     "output_type": "execute_result"
    }
   ],
   "source": [
    "Products_url = []\n",
    "product_elements = driver.find_elements_by_xpath(\"//a[@class = 'a-link-normal a-text-normal']\")\n",
    "for i in product_elements:\n",
    "    Products_url.append(i.get_attribute('href'))\n",
    "Products_url"
   ]
  },
  {
   "cell_type": "code",
   "execution_count": 118,
   "metadata": {},
   "outputs": [],
   "source": [
    "Price = []\n",
    "Ratings = []\n",
    "Rating = []\n",
    "Expected_delivery = []\n",
    "from selenium.common.exceptions import NoSuchElementException\n",
    "for i in Products_url:\n",
    "    driver.get(i)\n",
    "    try:\n",
    "        \n",
    "        price = driver.find_element_by_xpath('//span[@id=\"priceblock_ourprice\"]')\n",
    "        Price.append(price.text)\n",
    "    except NoSuchElementException:\n",
    "        Price.append('-')\n",
    "    try:\n",
    "        ratings = driver.find_element_by_xpath('//span[@id=\"acrCustomerReviewText\"]')\n",
    "        Ratings.append(ratings.text)\n",
    "    except NoSuchElementException:\n",
    "        Ratings.append('--')\n",
    "    try:\n",
    "        rating = driver.find_element_by_xpath('//span[@class=\"a-size-medium a-color-base\"]')\n",
    "        Rating.append(rating.text)\n",
    "    except NoSuchElementException:\n",
    "        Rating.append('--')\n",
    "    try:\n",
    "        delivery = driver.find_element_by_xpath('//div[@id = \"ddmDeliveryMessage\"]/b')\n",
    "        Expected_delivery.append(delivery.text)\n",
    "    except NoSuchElementException:\n",
    "        Expected_delivery.append('-')\n",
    "#     try:\n",
    "        \n",
    "#         price = driver.find_element_by_xpath('//span[@class = \"a-size-medium a-color-price priceBlockBuyingPriceString\"]')\n",
    "#         Price.append(price.text)\n",
    "#     except NoSuchElementException:\n",
    "#         Price.append('-')\n"
   ]
  },
  {
   "cell_type": "code",
   "execution_count": 119,
   "metadata": {},
   "outputs": [],
   "source": [
    "# Price = []\n",
    "# for i in Products_url:\n",
    "#     driver.get(i)\n",
    "#     try:\n",
    "        \n",
    "#         price = driver.find_element_by_xpath('//span[@class = \"a-size-medium a-color-price priceBlockBuyingPriceString\"]')\n",
    "#         Price.append(price.text)\n",
    "#     except NoSuchElementException:\n",
    "#         Price.append('-')"
   ]
  },
  {
   "cell_type": "code",
   "execution_count": 120,
   "metadata": {},
   "outputs": [],
   "source": [
    "# price = driver.find_element_by_xpath('//span[@class = \"a-size-medium a-color-price priceBlockBuyingPriceString\"]').text\n",
    "# price"
   ]
  },
  {
   "cell_type": "code",
   "execution_count": 121,
   "metadata": {},
   "outputs": [
    {
     "data": {
      "text/plain": [
       "22"
      ]
     },
     "execution_count": 121,
     "metadata": {},
     "output_type": "execute_result"
    }
   ],
   "source": [
    "len(Rating)"
   ]
  },
  {
   "cell_type": "code",
   "execution_count": 122,
   "metadata": {},
   "outputs": [
    {
     "data": {
      "text/html": [
       "<div>\n",
       "<style scoped>\n",
       "    .dataframe tbody tr th:only-of-type {\n",
       "        vertical-align: middle;\n",
       "    }\n",
       "\n",
       "    .dataframe tbody tr th {\n",
       "        vertical-align: top;\n",
       "    }\n",
       "\n",
       "    .dataframe thead th {\n",
       "        text-align: right;\n",
       "    }\n",
       "</style>\n",
       "<table border=\"1\" class=\"dataframe\">\n",
       "  <thead>\n",
       "    <tr style=\"text-align: right;\">\n",
       "      <th></th>\n",
       "      <th>Name</th>\n",
       "      <th>Brand_name</th>\n",
       "      <th>Price</th>\n",
       "      <th>Rating</th>\n",
       "      <th>Ratings</th>\n",
       "      <th>Expected_delivery</th>\n",
       "      <th>URLs</th>\n",
       "    </tr>\n",
       "  </thead>\n",
       "  <tbody>\n",
       "    <tr>\n",
       "      <th>0</th>\n",
       "      <td>AmazonBasics</td>\n",
       "      <td>AmazonBasics 411L 2 Star Frost-free Double Doo...</td>\n",
       "      <td>₹36,999.00</td>\n",
       "      <td>3.5 out of 5</td>\n",
       "      <td>6 ratings</td>\n",
       "      <td>Friday, Aug 27, 8AM-5PM</td>\n",
       "      <td>https://www.amazon.in/gp/slredirect/picassoRed...</td>\n",
       "    </tr>\n",
       "    <tr>\n",
       "      <th>1</th>\n",
       "      <td>Samsung</td>\n",
       "      <td>Samsung 324L 3 Star Inverter Frost Free Double...</td>\n",
       "      <td>₹33,190.00</td>\n",
       "      <td>4.2 out of 5</td>\n",
       "      <td>2,392 ratings</td>\n",
       "      <td>Friday, Aug 27, 8AM-5PM</td>\n",
       "      <td>https://www.amazon.in/gp/slredirect/picassoRed...</td>\n",
       "    </tr>\n",
       "    <tr>\n",
       "      <th>2</th>\n",
       "      <td>Samsung</td>\n",
       "      <td>Samsung 192 L 2 Star Direct Cool Single Door R...</td>\n",
       "      <td>₹12,790.00</td>\n",
       "      <td>4.3 out of 5</td>\n",
       "      <td>1,271 ratings</td>\n",
       "      <td>Friday, Aug 27, 8AM-5PM</td>\n",
       "      <td>https://www.amazon.in/Samsung-Direct-Refrigera...</td>\n",
       "    </tr>\n",
       "    <tr>\n",
       "      <th>3</th>\n",
       "      <td>Samsung</td>\n",
       "      <td>Samsung 230 L 3 Star Inverter Single Door Refr...</td>\n",
       "      <td>₹16,490.00</td>\n",
       "      <td>4.2 out of 5</td>\n",
       "      <td>1,119 ratings</td>\n",
       "      <td>Friday, Aug 27, 8AM-5PM</td>\n",
       "      <td>https://www.amazon.in/Samsung-Inverter-Refrige...</td>\n",
       "    </tr>\n",
       "    <tr>\n",
       "      <th>4</th>\n",
       "      <td>Haier</td>\n",
       "      <td>Haier 195 L 4 Star Direct-Cool Single-Door Ref...</td>\n",
       "      <td>₹13,690.00</td>\n",
       "      <td>4.2 out of 5</td>\n",
       "      <td>2,870 ratings</td>\n",
       "      <td>Friday, Aug 27, 8AM-5PM</td>\n",
       "      <td>https://www.amazon.in/Haier-Direct-Cool-Single...</td>\n",
       "    </tr>\n",
       "    <tr>\n",
       "      <th>5</th>\n",
       "      <td>Samsung</td>\n",
       "      <td>Samsung 198 L 4 Star Inverter Direct-Cool Sing...</td>\n",
       "      <td>₹16,350.00</td>\n",
       "      <td>4.3 out of 5</td>\n",
       "      <td>1,671 ratings</td>\n",
       "      <td>Friday, Aug 27, 8AM-5PM</td>\n",
       "      <td>https://www.amazon.in/Samsung-Direct-Cool-Refr...</td>\n",
       "    </tr>\n",
       "    <tr>\n",
       "      <th>6</th>\n",
       "      <td>Whirlpool</td>\n",
       "      <td>Whirlpool 190 L 3 Star Direct-Cool Single Door...</td>\n",
       "      <td>₹12,740.00</td>\n",
       "      <td>4.2 out of 5</td>\n",
       "      <td>5,512 ratings</td>\n",
       "      <td>Friday, Aug 27, 8AM-5PM</td>\n",
       "      <td>https://www.amazon.in/Whirlpool-Refrigerator-W...</td>\n",
       "    </tr>\n",
       "    <tr>\n",
       "      <th>7</th>\n",
       "      <td>Godrej</td>\n",
       "      <td>Godrej 185 L 4 Star Inverter Direct-Cool Singl...</td>\n",
       "      <td>-</td>\n",
       "      <td>4.2 out of 5</td>\n",
       "      <td>275 ratings</td>\n",
       "      <td>-</td>\n",
       "      <td>https://www.amazon.in/Godrej-Inverter-Direct-C...</td>\n",
       "    </tr>\n",
       "    <tr>\n",
       "      <th>8</th>\n",
       "      <td>LG</td>\n",
       "      <td>LG 190 L 4 Star Inverter Direct-Cool Single Do...</td>\n",
       "      <td>₹16,090.00</td>\n",
       "      <td>4.3 out of 5</td>\n",
       "      <td>1,267 ratings</td>\n",
       "      <td>Friday, Aug 27, 8AM-5PM</td>\n",
       "      <td>https://www.amazon.in/LG-Inverter-Direct-Cool-...</td>\n",
       "    </tr>\n",
       "    <tr>\n",
       "      <th>9</th>\n",
       "      <td>Samsung</td>\n",
       "      <td>Samsung 198 L 4 Star Inverter Direct Cool Sing...</td>\n",
       "      <td>₹16,090.00</td>\n",
       "      <td>4.4 out of 5</td>\n",
       "      <td>351 ratings</td>\n",
       "      <td>Friday, Aug 27, 8AM-5PM</td>\n",
       "      <td>https://www.amazon.in/Samsung-Refrigerator-RR2...</td>\n",
       "    </tr>\n",
       "    <tr>\n",
       "      <th>10</th>\n",
       "      <td>AmazonBasics</td>\n",
       "      <td>AmazonBasics 564 L Side-by-Side Door Refrigera...</td>\n",
       "      <td>₹51,999.00</td>\n",
       "      <td>4.2 out of 5</td>\n",
       "      <td>423 ratings</td>\n",
       "      <td>Friday, Aug 27, 8AM-5PM</td>\n",
       "      <td>https://www.amazon.in/gp/slredirect/picassoRed...</td>\n",
       "    </tr>\n",
       "    <tr>\n",
       "      <th>11</th>\n",
       "      <td>AmazonBasics</td>\n",
       "      <td>AmazonBasics 468 L Frost Free Side-By-Side Ref...</td>\n",
       "      <td>₹40,499.00</td>\n",
       "      <td>3.7 out of 5</td>\n",
       "      <td>116 ratings</td>\n",
       "      <td>Friday, Aug 27, 8AM-5PM</td>\n",
       "      <td>https://www.amazon.in/gp/slredirect/picassoRed...</td>\n",
       "    </tr>\n",
       "    <tr>\n",
       "      <th>12</th>\n",
       "      <td>Haier</td>\n",
       "      <td>Haier 195 L 3 Star Direct-Cool Single Door Ref...</td>\n",
       "      <td>₹12,990.00</td>\n",
       "      <td>4.1 out of 5</td>\n",
       "      <td>400 ratings</td>\n",
       "      <td>Friday, Aug 27, 8AM-5PM</td>\n",
       "      <td>https://www.amazon.in/Haier-Direct-Cool-Refrig...</td>\n",
       "    </tr>\n",
       "    <tr>\n",
       "      <th>13</th>\n",
       "      <td>Samsung</td>\n",
       "      <td>Samsung 253 L 3 Star with Inverter Double Door...</td>\n",
       "      <td>₹23,990.00</td>\n",
       "      <td>4.3 out of 5</td>\n",
       "      <td>2,827 ratings</td>\n",
       "      <td>Friday, Aug 27, 8AM-5PM</td>\n",
       "      <td>https://www.amazon.in/Samsung-Inverter-Refrige...</td>\n",
       "    </tr>\n",
       "    <tr>\n",
       "      <th>14</th>\n",
       "      <td>Samsung</td>\n",
       "      <td>Samsung 225 L 4 Star Inverter Direct Cool Sing...</td>\n",
       "      <td>₹19,690.00</td>\n",
       "      <td>4.3 out of 5</td>\n",
       "      <td>335 ratings</td>\n",
       "      <td>Friday, Aug 27, 8AM-5PM</td>\n",
       "      <td>https://www.amazon.in/Samsung-Refrigerator-RR2...</td>\n",
       "    </tr>\n",
       "    <tr>\n",
       "      <th>15</th>\n",
       "      <td>Candy</td>\n",
       "      <td>Candy 190 L 2 Star Direct-Cool Single Door Ref...</td>\n",
       "      <td>₹10,290.00</td>\n",
       "      <td>4.4 out of 5</td>\n",
       "      <td>161 ratings</td>\n",
       "      <td>Friday, Aug 27, 8AM-5PM</td>\n",
       "      <td>https://www.amazon.in/Candy-Direct-Cool-Refrig...</td>\n",
       "    </tr>\n",
       "    <tr>\n",
       "      <th>16</th>\n",
       "      <td>Samsung</td>\n",
       "      <td>Samsung 192 L 3 Star Inverter Direct Cool Sing...</td>\n",
       "      <td>₹14,390.00</td>\n",
       "      <td>4.2 out of 5</td>\n",
       "      <td>219 ratings</td>\n",
       "      <td>Friday, Aug 27, 8AM-5PM</td>\n",
       "      <td>https://www.amazon.in/Samsung-Inverter-Refrige...</td>\n",
       "    </tr>\n",
       "    <tr>\n",
       "      <th>17</th>\n",
       "      <td>Candy</td>\n",
       "      <td>Candy 170 L 2 Star Direct-Cool Single Door Ref...</td>\n",
       "      <td>₹9,190.00</td>\n",
       "      <td>4.2 out of 5</td>\n",
       "      <td>143 ratings</td>\n",
       "      <td>Friday, Aug 27, 8AM-5PM</td>\n",
       "      <td>https://www.amazon.in/Candy-Direct-Cool-Refrig...</td>\n",
       "    </tr>\n",
       "    <tr>\n",
       "      <th>18</th>\n",
       "      <td>Haier</td>\n",
       "      <td>Haier 53 L 2 Star Direct-Cool Single Door Mini...</td>\n",
       "      <td>-</td>\n",
       "      <td>4.2 out of 5</td>\n",
       "      <td>3,339 ratings</td>\n",
       "      <td>-</td>\n",
       "      <td>https://www.amazon.in/Haier-Direct-Cool-Single...</td>\n",
       "    </tr>\n",
       "    <tr>\n",
       "      <th>19</th>\n",
       "      <td>Whirlpool</td>\n",
       "      <td>Whirlpool 190 L 3 Star Single Door Refrigerato...</td>\n",
       "      <td>₹13,740.00</td>\n",
       "      <td>4.4 out of 5</td>\n",
       "      <td>6 ratings</td>\n",
       "      <td>Friday, Aug 27, 8AM-5PM</td>\n",
       "      <td>https://www.amazon.in/Whirlpool-Single-Refrige...</td>\n",
       "    </tr>\n",
       "    <tr>\n",
       "      <th>20</th>\n",
       "      <td>AmazonBasics</td>\n",
       "      <td>AmazonBasics 564 L Side-by-Side Door Refrigera...</td>\n",
       "      <td>₹48,999.00</td>\n",
       "      <td>4.3 out of 5</td>\n",
       "      <td>927 ratings</td>\n",
       "      <td>Friday, Sep 3, 8AM-5PM</td>\n",
       "      <td>https://www.amazon.in/gp/slredirect/picassoRed...</td>\n",
       "    </tr>\n",
       "    <tr>\n",
       "      <th>21</th>\n",
       "      <td>Samsung</td>\n",
       "      <td>Samsung 345L 3 Star Inverter Frost Free Double...</td>\n",
       "      <td>₹34,990.00</td>\n",
       "      <td>4.3 out of 5</td>\n",
       "      <td>1,077 ratings</td>\n",
       "      <td>Friday, Aug 27, 8AM-5PM</td>\n",
       "      <td>https://www.amazon.in/gp/slredirect/picassoRed...</td>\n",
       "    </tr>\n",
       "  </tbody>\n",
       "</table>\n",
       "</div>"
      ],
      "text/plain": [
       "            Name                                         Brand_name  \\\n",
       "0   AmazonBasics  AmazonBasics 411L 2 Star Frost-free Double Doo...   \n",
       "1        Samsung  Samsung 324L 3 Star Inverter Frost Free Double...   \n",
       "2        Samsung  Samsung 192 L 2 Star Direct Cool Single Door R...   \n",
       "3        Samsung  Samsung 230 L 3 Star Inverter Single Door Refr...   \n",
       "4          Haier  Haier 195 L 4 Star Direct-Cool Single-Door Ref...   \n",
       "5        Samsung  Samsung 198 L 4 Star Inverter Direct-Cool Sing...   \n",
       "6      Whirlpool  Whirlpool 190 L 3 Star Direct-Cool Single Door...   \n",
       "7         Godrej  Godrej 185 L 4 Star Inverter Direct-Cool Singl...   \n",
       "8             LG  LG 190 L 4 Star Inverter Direct-Cool Single Do...   \n",
       "9        Samsung  Samsung 198 L 4 Star Inverter Direct Cool Sing...   \n",
       "10  AmazonBasics  AmazonBasics 564 L Side-by-Side Door Refrigera...   \n",
       "11  AmazonBasics  AmazonBasics 468 L Frost Free Side-By-Side Ref...   \n",
       "12         Haier  Haier 195 L 3 Star Direct-Cool Single Door Ref...   \n",
       "13       Samsung  Samsung 253 L 3 Star with Inverter Double Door...   \n",
       "14       Samsung  Samsung 225 L 4 Star Inverter Direct Cool Sing...   \n",
       "15         Candy  Candy 190 L 2 Star Direct-Cool Single Door Ref...   \n",
       "16       Samsung  Samsung 192 L 3 Star Inverter Direct Cool Sing...   \n",
       "17         Candy  Candy 170 L 2 Star Direct-Cool Single Door Ref...   \n",
       "18         Haier  Haier 53 L 2 Star Direct-Cool Single Door Mini...   \n",
       "19     Whirlpool  Whirlpool 190 L 3 Star Single Door Refrigerato...   \n",
       "20  AmazonBasics  AmazonBasics 564 L Side-by-Side Door Refrigera...   \n",
       "21       Samsung  Samsung 345L 3 Star Inverter Frost Free Double...   \n",
       "\n",
       "         Price        Rating        Ratings        Expected_delivery  \\\n",
       "0   ₹36,999.00  3.5 out of 5      6 ratings  Friday, Aug 27, 8AM-5PM   \n",
       "1   ₹33,190.00  4.2 out of 5  2,392 ratings  Friday, Aug 27, 8AM-5PM   \n",
       "2   ₹12,790.00  4.3 out of 5  1,271 ratings  Friday, Aug 27, 8AM-5PM   \n",
       "3   ₹16,490.00  4.2 out of 5  1,119 ratings  Friday, Aug 27, 8AM-5PM   \n",
       "4   ₹13,690.00  4.2 out of 5  2,870 ratings  Friday, Aug 27, 8AM-5PM   \n",
       "5   ₹16,350.00  4.3 out of 5  1,671 ratings  Friday, Aug 27, 8AM-5PM   \n",
       "6   ₹12,740.00  4.2 out of 5  5,512 ratings  Friday, Aug 27, 8AM-5PM   \n",
       "7            -  4.2 out of 5    275 ratings                        -   \n",
       "8   ₹16,090.00  4.3 out of 5  1,267 ratings  Friday, Aug 27, 8AM-5PM   \n",
       "9   ₹16,090.00  4.4 out of 5    351 ratings  Friday, Aug 27, 8AM-5PM   \n",
       "10  ₹51,999.00  4.2 out of 5    423 ratings  Friday, Aug 27, 8AM-5PM   \n",
       "11  ₹40,499.00  3.7 out of 5    116 ratings  Friday, Aug 27, 8AM-5PM   \n",
       "12  ₹12,990.00  4.1 out of 5    400 ratings  Friday, Aug 27, 8AM-5PM   \n",
       "13  ₹23,990.00  4.3 out of 5  2,827 ratings  Friday, Aug 27, 8AM-5PM   \n",
       "14  ₹19,690.00  4.3 out of 5    335 ratings  Friday, Aug 27, 8AM-5PM   \n",
       "15  ₹10,290.00  4.4 out of 5    161 ratings  Friday, Aug 27, 8AM-5PM   \n",
       "16  ₹14,390.00  4.2 out of 5    219 ratings  Friday, Aug 27, 8AM-5PM   \n",
       "17   ₹9,190.00  4.2 out of 5    143 ratings  Friday, Aug 27, 8AM-5PM   \n",
       "18           -  4.2 out of 5  3,339 ratings                        -   \n",
       "19  ₹13,740.00  4.4 out of 5      6 ratings  Friday, Aug 27, 8AM-5PM   \n",
       "20  ₹48,999.00  4.3 out of 5    927 ratings   Friday, Sep 3, 8AM-5PM   \n",
       "21  ₹34,990.00  4.3 out of 5  1,077 ratings  Friday, Aug 27, 8AM-5PM   \n",
       "\n",
       "                                                 URLs  \n",
       "0   https://www.amazon.in/gp/slredirect/picassoRed...  \n",
       "1   https://www.amazon.in/gp/slredirect/picassoRed...  \n",
       "2   https://www.amazon.in/Samsung-Direct-Refrigera...  \n",
       "3   https://www.amazon.in/Samsung-Inverter-Refrige...  \n",
       "4   https://www.amazon.in/Haier-Direct-Cool-Single...  \n",
       "5   https://www.amazon.in/Samsung-Direct-Cool-Refr...  \n",
       "6   https://www.amazon.in/Whirlpool-Refrigerator-W...  \n",
       "7   https://www.amazon.in/Godrej-Inverter-Direct-C...  \n",
       "8   https://www.amazon.in/LG-Inverter-Direct-Cool-...  \n",
       "9   https://www.amazon.in/Samsung-Refrigerator-RR2...  \n",
       "10  https://www.amazon.in/gp/slredirect/picassoRed...  \n",
       "11  https://www.amazon.in/gp/slredirect/picassoRed...  \n",
       "12  https://www.amazon.in/Haier-Direct-Cool-Refrig...  \n",
       "13  https://www.amazon.in/Samsung-Inverter-Refrige...  \n",
       "14  https://www.amazon.in/Samsung-Refrigerator-RR2...  \n",
       "15  https://www.amazon.in/Candy-Direct-Cool-Refrig...  \n",
       "16  https://www.amazon.in/Samsung-Inverter-Refrige...  \n",
       "17  https://www.amazon.in/Candy-Direct-Cool-Refrig...  \n",
       "18  https://www.amazon.in/Haier-Direct-Cool-Single...  \n",
       "19  https://www.amazon.in/Whirlpool-Single-Refrige...  \n",
       "20  https://www.amazon.in/gp/slredirect/picassoRed...  \n",
       "21  https://www.amazon.in/gp/slredirect/picassoRed...  "
      ]
     },
     "execution_count": 122,
     "metadata": {},
     "output_type": "execute_result"
    }
   ],
   "source": [
    "#making dataframe\n",
    "Product = pd.DataFrame({})\n",
    "Product['Name'] = Name\n",
    "Product['Brand_name'] = Brand_name\n",
    "Product['Price'] = Price\n",
    "Product['Rating'] = Rating\n",
    "Product['Ratings'] = Ratings\n",
    "Product['Expected_delivery'] = Expected_delivery\n",
    "Product['URLs'] = Products_url\n",
    "\n",
    "Product\n",
    "\n",
    "\n",
    "\n",
    "\n"
   ]
  },
  {
   "cell_type": "code",
   "execution_count": null,
   "metadata": {},
   "outputs": [],
   "source": []
  },
  {
   "cell_type": "code",
   "execution_count": 123,
   "metadata": {},
   "outputs": [],
   "source": [
    "#  ratings = driver.find_element_by_xpath('//span[@id=\"acrCustomerReviewText\"]')\n",
    "#     Ratings.append(ratings.text)\n",
    "#     rating = driver.find_element_by_xpath('//span[@class=\"a-icon-alt\"]')\n",
    "#     Rating.append(rating.text)\n",
    "# Price = []\n",
    "# # Ratings = []\n",
    "# # Rating = []"
   ]
  },
  {
   "cell_type": "code",
   "execution_count": 124,
   "metadata": {},
   "outputs": [],
   "source": [
    "# product = driver.find_element_by_xpath('//a[@class=\"a-link-normal a-text-normal\"]')     # Extracting no. of Ratings from xpath\n",
    "\n",
    "# product_url = product.get_attribute('href')\n",
    "# product_url"
   ]
  },
  {
   "cell_type": "code",
   "execution_count": 125,
   "metadata": {},
   "outputs": [],
   "source": [
    "# # Rating = []\n",
    "#  try:\n",
    "\n",
    "#         n_rating = driver.find_element_by_xpath('//a[@class=\"a-link-normal a-text-normal\"]')     # Extracting no. of Ratings from xpath\n",
    "#         n_rating.get_attribute('href')   \n",
    "#         prod_dict['No. of ratings'].append(n_rating.text)\n",
    "\n",
    "#     except NoSuchElementException:\n",
    "\n",
    "#         prod_dict['No. of ratings'].append('-')"
   ]
  },
  {
   "cell_type": "code",
   "execution_count": null,
   "metadata": {},
   "outputs": [],
   "source": []
  },
  {
   "cell_type": "code",
   "execution_count": 126,
   "metadata": {},
   "outputs": [],
   "source": [
    "# pp = ro[0]"
   ]
  },
  {
   "cell_type": "code",
   "execution_count": 127,
   "metadata": {},
   "outputs": [],
   "source": [
    "# pp.get_attribute('href')"
   ]
  },
  {
   "cell_type": "markdown",
   "metadata": {},
   "source": [
    "# 4. Write a python program to search for a smartphone(e.g.: Oneplus Nord, pixel 4A, etc.) on www.flipkart.com and scrape following details for all the search results displayed on 1st page. Details to be scraped: “Brand Name”, “Smartphone name”, “Colour”, “RAM”, “Storage(ROM)”, “Primary Camera”, “Secondary Camera”, “Display Size”, “Display Resolution”, “Processor”, “Processor Cores”, “Battery Capacity”, “Price”, “Product URL”. Incase if any of the details is missing then replace it by “- “. Save your results in a dataframe and CSV.\n",
    "\n",
    "\n",
    "\n",
    "\n"
   ]
  },
  {
   "cell_type": "code",
   "execution_count": 5,
   "metadata": {},
   "outputs": [],
   "source": [
    "url = \"https://www.flipkart.com/\" # assign web address to our variable\n",
    "driver.get(url) #get webpage"
   ]
  },
  {
   "cell_type": "code",
   "execution_count": 9,
   "metadata": {},
   "outputs": [],
   "source": [
    "search_bar = driver.find_element_by_xpath('//input[@class = \"_3704LK\"]') # finding web_element for search job\n",
    "search_bar.send_keys('smartphones')\n",
    "search_btn = driver.find_element_by_xpath('//button[@class = \"L0Z3Pu\"]')\n",
    "search_btn.click()"
   ]
  },
  {
   "cell_type": "code",
   "execution_count": 10,
   "metadata": {},
   "outputs": [],
   "source": [
    "Brand_Name = []\n",
    "Smartphone_name = []\n",
    "Colour = []\n",
    "RAM = []\n",
    "ROM = []\n",
    "Primary_camera = []\n",
    "Secondary_camera = []\n",
    "Display_size = []\n",
    "Display_resolution = []\n",
    "Processor = []\n",
    "Processor_cores = []\n",
    "Battery_capacity = []\n",
    "Price = []\n",
    "Product_URL = []\n"
   ]
  },
  {
   "cell_type": "code",
   "execution_count": 14,
   "metadata": {},
   "outputs": [],
   "source": [
    "Product_URL = []\n",
    "product_elements = driver.find_elements_by_xpath(\"//a[@class = '_1fQZEK']\")\n",
    "for i in product_elements:\n",
    "    Product_URL.append(i.get_attribute('href'))\n",
    "Product_URL\n"
   ]
  },
  {
   "cell_type": "code",
   "execution_count": 16,
   "metadata": {},
   "outputs": [],
   "source": [
    "Smartphone_name = []\n",
    "from selenium.common.exceptions import NoSuchElementException\n",
    "for i in Product_URL:\n",
    "    driver.get(i)\n",
    "    try:\n",
    "        name = driver.find_element_by_xpath('//span[@class=\"B_NuCI\"]')\n",
    "        Smartphone_name.append(name.text)\n",
    "    except NoSuchElementException:\n",
    "        Smartphone_name.append('-')"
   ]
  },
  {
   "cell_type": "code",
   "execution_count": 17,
   "metadata": {},
   "outputs": [],
   "source": [
    "Price = []\n",
    "for i in Product_URL:\n",
    "    driver.get(i)\n",
    "    try:\n",
    "        price = driver.find_element_by_xpath('//div[@class = \"_30jeq3 _16Jk6d\"]')\n",
    "        Price.append(price.text)\n",
    "    except NoSuchElementException:\n",
    "        Price.append('-')"
   ]
  },
  {
   "cell_type": "code",
   "execution_count": 23,
   "metadata": {},
   "outputs": [],
   "source": [
    "Colour = []\n",
    "for i in Product_URL:\n",
    "    driver.get(i)\n",
    "    try:\n",
    "        colour = driver.find_element_by_xpath('/html/body/div[1]/div/div[3]/div[1]/div[2]/div[9]/div[5]/div/div[2]/div[1]/div[1]/table/tbody/tr[4]/td[2]/ul/li')\n",
    "        Colour.append(colour.text)\n",
    "    except NoSuchElementException:\n",
    "        Colour.append('-')"
   ]
  },
  {
   "cell_type": "code",
   "execution_count": 25,
   "metadata": {},
   "outputs": [
    {
     "data": {
      "text/plain": [
       "['-',\n",
       " '-',\n",
       " 'Nature Green',\n",
       " 'Cool Blue',\n",
       " '-',\n",
       " 'Arctic Blue',\n",
       " '-',\n",
       " 'Matte Black',\n",
       " 'Obsidian Black',\n",
       " 'Morandi Green',\n",
       " '7° Purple',\n",
       " 'Aegean Blue',\n",
       " '-',\n",
       " '-',\n",
       " '-',\n",
       " '-',\n",
       " '-',\n",
       " 'Power Black',\n",
       " '-',\n",
       " '-',\n",
       " '-',\n",
       " '-',\n",
       " '-',\n",
       " '-']"
      ]
     },
     "execution_count": 25,
     "metadata": {},
     "output_type": "execute_result"
    }
   ],
   "source": [
    "Colour"
   ]
  },
  {
   "cell_type": "code",
   "execution_count": 27,
   "metadata": {},
   "outputs": [],
   "source": [
    "Display_size = []\n",
    "for i in Product_URL:\n",
    "    driver.get(i)\n",
    "    try:\n",
    "        display = driver.find_element_by_xpath('/html/body/div[1]/div/div[3]/div[1]/div[2]/div[9]/div[5]/div/div[2]/div[1]/div[2]/table/tbody/tr[1]/td[2]/ul/li')\n",
    "        Display_size.append(display.text)\n",
    "    except NoSuchElementException:\n",
    "        Display_size.append('-')"
   ]
  },
  {
   "cell_type": "code",
   "execution_count": 29,
   "metadata": {},
   "outputs": [
    {
     "data": {
      "text/plain": [
       "['Handset, Adapter (5V/2A), USB Cable, SIM Card Tool, Quick Guide, Important Info booklet with Warranty Card',\n",
       " 'Handset, Adapter (5V/2A), USB Cable, SIM Card Tool, Quick Guide, Important Info booklet with Warranty Card',\n",
       " '-',\n",
       " '',\n",
       " '-',\n",
       " '',\n",
       " '-',\n",
       " '',\n",
       " '',\n",
       " '',\n",
       " '',\n",
       " '',\n",
       " '-',\n",
       " '-',\n",
       " '-',\n",
       " '-',\n",
       " '-',\n",
       " '',\n",
       " '-',\n",
       " '-',\n",
       " '-',\n",
       " '-',\n",
       " '-',\n",
       " '-']"
      ]
     },
     "execution_count": 29,
     "metadata": {},
     "output_type": "execute_result"
    }
   ],
   "source": [
    "Display_size"
   ]
  },
  {
   "cell_type": "code",
   "execution_count": 39,
   "metadata": {},
   "outputs": [
    {
     "ename": "SyntaxError",
     "evalue": "invalid syntax (<ipython-input-39-50116ff5ead5>, line 4)",
     "output_type": "error",
     "traceback": [
      "\u001b[1;36m  File \u001b[1;32m\"<ipython-input-39-50116ff5ead5>\"\u001b[1;36m, line \u001b[1;32m4\u001b[0m\n\u001b[1;33m    display = driver.find_element_by_xpath('//li[@class = \"_21lJbe\"][contains(text(), 'inch')]')\u001b[0m\n\u001b[1;37m                                                                                       ^\u001b[0m\n\u001b[1;31mSyntaxError\u001b[0m\u001b[1;31m:\u001b[0m invalid syntax\n"
     ]
    }
   ],
   "source": [
    "Display_size = []\n",
    "driver.get(Product_URL[1])\n",
    "try:\n",
    "        display = driver.find_element_by_xpath('//li[@class = \"_21lJbe\"][contains(text(), 'inch')]')\n",
    "        Display_size.append(display.text)\n",
    "except NoSuchElementException:\n",
    "        Display_size.append('-')\n",
    "Display_size"
   ]
  },
  {
   "cell_type": "code",
   "execution_count": null,
   "metadata": {},
   "outputs": [],
   "source": [
    "/html/body/div[1]/div/div[3]/div[1]/div[2]/div[9]/div[5]/div/div[2]/div[1]/div[3]/table/tbody/tr[1]/td[2]/ul/li"
   ]
  },
  {
   "cell_type": "code",
   "execution_count": null,
   "metadata": {},
   "outputs": [],
   "source": []
  },
  {
   "cell_type": "markdown",
   "metadata": {},
   "source": [
    "7. Write a program to scrap all the available details of best gaming laptops from digit.in"
   ]
  },
  {
   "cell_type": "code",
   "execution_count": 138,
   "metadata": {},
   "outputs": [],
   "source": [
    "url = \"https://www.digit.in/\" # assign web address to our variable\n",
    "driver.get(url) #get webpage"
   ]
  },
  {
   "cell_type": "code",
   "execution_count": 139,
   "metadata": {},
   "outputs": [],
   "source": [
    "search_btn = driver.find_element_by_xpath('/html/body/div[1]/div/div[3]/div[2]/a/img')\n",
    "search_btn.click()"
   ]
  },
  {
   "cell_type": "code",
   "execution_count": 140,
   "metadata": {},
   "outputs": [],
   "source": [
    "# from selenium.webdriver.common.keys import Keys\n",
    "search_item = driver.find_element_by_id('globalPageSearchText')\n",
    "search_item.send_keys('best gaming laptops')\n",
    "search_item.send_keys(Keys.RETURN)\n"
   ]
  },
  {
   "cell_type": "code",
   "execution_count": 141,
   "metadata": {},
   "outputs": [
    {
     "data": {
      "text/html": [
       "<div>\n",
       "<style scoped>\n",
       "    .dataframe tbody tr th:only-of-type {\n",
       "        vertical-align: middle;\n",
       "    }\n",
       "\n",
       "    .dataframe tbody tr th {\n",
       "        vertical-align: top;\n",
       "    }\n",
       "\n",
       "    .dataframe thead th {\n",
       "        text-align: right;\n",
       "    }\n",
       "</style>\n",
       "<table border=\"1\" class=\"dataframe\">\n",
       "  <thead>\n",
       "    <tr style=\"text-align: right;\">\n",
       "      <th></th>\n",
       "      <th>Name</th>\n",
       "      <th>Description</th>\n",
       "      <th>Price</th>\n",
       "      <th>Ratings</th>\n",
       "    </tr>\n",
       "  </thead>\n",
       "  <tbody>\n",
       "    <tr>\n",
       "      <th>0</th>\n",
       "      <td>Asus G750JX-CV069P</td>\n",
       "      <td>Another, no-holds barred, uninterrupted gaming...</td>\n",
       "      <td>₹ 149,999</td>\n",
       "      <td>4.8/5</td>\n",
       "    </tr>\n",
       "    <tr>\n",
       "      <th>1</th>\n",
       "      <td>Lenovo G50-30</td>\n",
       "      <td>The Lenovo G series of laptops are aimed at bu...</td>\n",
       "      <td>₹ 25,694</td>\n",
       "      <td>4.7/5</td>\n",
       "    </tr>\n",
       "    <tr>\n",
       "      <th>2</th>\n",
       "      <td>HP Envy 15-k006tx</td>\n",
       "      <td>Another heavy duty gaming laptop that bludgeon...</td>\n",
       "      <td>₹ 80,510</td>\n",
       "      <td>-</td>\n",
       "    </tr>\n",
       "    <tr>\n",
       "      <th>3</th>\n",
       "      <td>HP Envy dv6-7206tx notebook</td>\n",
       "      <td>HP's higher-end laptops have always been fairl...</td>\n",
       "      <td>₹ 65,705</td>\n",
       "      <td>-</td>\n",
       "    </tr>\n",
       "    <tr>\n",
       "      <th>4</th>\n",
       "      <td>ASUS G53J - A 3D gamer's delight but we want more</td>\n",
       "      <td>The ASUS G53J does not compare well with any o...</td>\n",
       "      <td>₹ 112,499</td>\n",
       "      <td>-</td>\n",
       "    </tr>\n",
       "    <tr>\n",
       "      <th>5</th>\n",
       "      <td>Dell Vostro 15 3500</td>\n",
       "      <td></td>\n",
       "      <td>₹ 38,489</td>\n",
       "      <td>-</td>\n",
       "    </tr>\n",
       "    <tr>\n",
       "      <th>6</th>\n",
       "      <td>ASUS ROG Flow x13</td>\n",
       "      <td></td>\n",
       "      <td>₹ 154,990</td>\n",
       "      <td>-</td>\n",
       "    </tr>\n",
       "    <tr>\n",
       "      <th>7</th>\n",
       "      <td>Samsung Series 9 (NP-900X3C)</td>\n",
       "      <td>The Samsung Series 9 is one of the most amazin...</td>\n",
       "      <td>-</td>\n",
       "      <td>-</td>\n",
       "    </tr>\n",
       "    <tr>\n",
       "      <th>8</th>\n",
       "      <td>Sony PlayStation Vita</td>\n",
       "      <td>The Sony PlayStation Vita is one of the best h...</td>\n",
       "      <td>₹ 24,990</td>\n",
       "      <td>-</td>\n",
       "    </tr>\n",
       "    <tr>\n",
       "      <th>9</th>\n",
       "      <td>Asus GTX980 Matrix Platinum</td>\n",
       "      <td></td>\n",
       "      <td>₹ 52,000</td>\n",
       "      <td>-</td>\n",
       "    </tr>\n",
       "  </tbody>\n",
       "</table>\n",
       "</div>"
      ],
      "text/plain": [
       "                                                Name  \\\n",
       "0                                 Asus G750JX-CV069P   \n",
       "1                                      Lenovo G50-30   \n",
       "2                                  HP Envy 15-k006tx   \n",
       "3                        HP Envy dv6-7206tx notebook   \n",
       "4  ASUS G53J - A 3D gamer's delight but we want more   \n",
       "5                                Dell Vostro 15 3500   \n",
       "6                                  ASUS ROG Flow x13   \n",
       "7                       Samsung Series 9 (NP-900X3C)   \n",
       "8                              Sony PlayStation Vita   \n",
       "9                        Asus GTX980 Matrix Platinum   \n",
       "\n",
       "                                         Description      Price Ratings  \n",
       "0  Another, no-holds barred, uninterrupted gaming...  ₹ 149,999   4.8/5  \n",
       "1  The Lenovo G series of laptops are aimed at bu...   ₹ 25,694   4.7/5  \n",
       "2  Another heavy duty gaming laptop that bludgeon...   ₹ 80,510       -  \n",
       "3  HP's higher-end laptops have always been fairl...   ₹ 65,705       -  \n",
       "4  The ASUS G53J does not compare well with any o...  ₹ 112,499       -  \n",
       "5                                                      ₹ 38,489       -  \n",
       "6                                                     ₹ 154,990       -  \n",
       "7  The Samsung Series 9 is one of the most amazin...          -       -  \n",
       "8  The Sony PlayStation Vita is one of the best h...   ₹ 24,990       -  \n",
       "9                                                      ₹ 52,000       -  "
      ]
     },
     "execution_count": 141,
     "metadata": {},
     "output_type": "execute_result"
    }
   ],
   "source": [
    "Laptop_name = [] #Empty list to store the laptop Name\n",
    "Laptop_price = [] #Empty list to store the Price\n",
    "Description = [] #Empty list to store the Description\n",
    "Ratings = [] #Empty list to store the Rating\n",
    "URL = []\n",
    "product_elements = driver.find_elements_by_xpath('//div[@class = \"searchPage\"]//a')\n",
    "for i in product_elements:\n",
    "    URL.append(i.get_attribute('href'))\n",
    "\n",
    "\n",
    "from selenium.common.exceptions import NoSuchElementException # We may Encounter no values in some pages\n",
    "for i in URL:\n",
    "    driver.get(i)\n",
    "    try:\n",
    "        name = driver.find_element_by_xpath('//div[@class=\"heading-wraper\"]//h1')\n",
    "        Laptop_name.append(name.text)\n",
    "    except NoSuchElementException:\n",
    "        Laptop_name.append('-')\n",
    "    try:\n",
    "        price = driver.find_element_by_xpath('//div[@class=\"price\"]//strong')\n",
    "        Laptop_price.append(price.text)\n",
    "    except NoSuchElementException:\n",
    "        Laptop_price.append('-')\n",
    "    try:\n",
    "        desc = driver.find_element_by_xpath('//div[@class=\"para_container\"]//p')\n",
    "        Description.append(desc.text)\n",
    "    except NoSuchElementException:\n",
    "        Description.append('-')\n",
    "    try:\n",
    "        rating = driver.find_element_by_xpath('//div[@class=\"UserDate greentext\"]')\n",
    "        Ratings.append(rating.text)\n",
    "    except NoSuchElementException:\n",
    "        Ratings.append('-')\n",
    "\n",
    "# Create and Display dataframe\n",
    "df=pd.DataFrame({'Name':Laptop_name,\n",
    "                'Description':Description,\n",
    "                'Price':Laptop_price,\n",
    "                'Ratings':Ratings})\n",
    "df"
   ]
  },
  {
   "cell_type": "markdown",
   "metadata": {},
   "source": [
    "8. Write a python program to scrape the details for all billionaires from www.forbes.com. \n",
    "Details to be scrapped: “Rank”, “Name”, “Net worth”, “Age”, “Citizenship”, “Source”, \n",
    "“Industry”."
   ]
  },
  {
   "cell_type": "code",
   "execution_count": 112,
   "metadata": {},
   "outputs": [],
   "source": [
    "url = \"https://www.forbes.com/\" # assign web address to our variable\n",
    "driver.get(url) #get webpage"
   ]
  },
  {
   "cell_type": "code",
   "execution_count": 113,
   "metadata": {},
   "outputs": [],
   "source": [
    "driver.find_element_by_xpath('//button[@class = \"icon--hamburger\"]').click()"
   ]
  },
  {
   "cell_type": "code",
   "execution_count": 114,
   "metadata": {},
   "outputs": [],
   "source": [
    "billionaire = driver.find_element_by_xpath('//a[@class = \"section__link\"]').get_attribute('href')"
   ]
  },
  {
   "cell_type": "code",
   "execution_count": 115,
   "metadata": {},
   "outputs": [],
   "source": [
    "driver.get(billionaire)"
   ]
  },
  {
   "cell_type": "code",
   "execution_count": 137,
   "metadata": {},
   "outputs": [
    {
     "data": {
      "text/html": [
       "<div>\n",
       "<style scoped>\n",
       "    .dataframe tbody tr th:only-of-type {\n",
       "        vertical-align: middle;\n",
       "    }\n",
       "\n",
       "    .dataframe tbody tr th {\n",
       "        vertical-align: top;\n",
       "    }\n",
       "\n",
       "    .dataframe thead th {\n",
       "        text-align: right;\n",
       "    }\n",
       "</style>\n",
       "<table border=\"1\" class=\"dataframe\">\n",
       "  <thead>\n",
       "    <tr style=\"text-align: right;\">\n",
       "      <th></th>\n",
       "      <th>Rank</th>\n",
       "      <th>Name</th>\n",
       "      <th>Age</th>\n",
       "      <th>Net_worth</th>\n",
       "      <th>Citizenship</th>\n",
       "      <th>Source</th>\n",
       "      <th>Industry</th>\n",
       "    </tr>\n",
       "  </thead>\n",
       "  <tbody>\n",
       "    <tr>\n",
       "      <th>0</th>\n",
       "      <td>1.</td>\n",
       "      <td>Jeff Bezos</td>\n",
       "      <td>57</td>\n",
       "      <td>$177 B</td>\n",
       "      <td>United States</td>\n",
       "      <td>Amazon</td>\n",
       "      <td>Technology</td>\n",
       "    </tr>\n",
       "    <tr>\n",
       "      <th>1</th>\n",
       "      <td>2.</td>\n",
       "      <td>Elon Musk</td>\n",
       "      <td>49</td>\n",
       "      <td>$151 B</td>\n",
       "      <td>United States</td>\n",
       "      <td>Tesla, SpaceX</td>\n",
       "      <td>Automotive</td>\n",
       "    </tr>\n",
       "    <tr>\n",
       "      <th>2</th>\n",
       "      <td>3.</td>\n",
       "      <td>Bernard Arnault &amp; family</td>\n",
       "      <td>72</td>\n",
       "      <td>$150 B</td>\n",
       "      <td>France</td>\n",
       "      <td>LVMH</td>\n",
       "      <td>Fashion &amp; Retail</td>\n",
       "    </tr>\n",
       "    <tr>\n",
       "      <th>3</th>\n",
       "      <td>4.</td>\n",
       "      <td>Bill Gates</td>\n",
       "      <td>65</td>\n",
       "      <td>$124 B</td>\n",
       "      <td>United States</td>\n",
       "      <td>Microsoft</td>\n",
       "      <td>Technology</td>\n",
       "    </tr>\n",
       "    <tr>\n",
       "      <th>4</th>\n",
       "      <td>5.</td>\n",
       "      <td>Mark Zuckerberg</td>\n",
       "      <td>36</td>\n",
       "      <td>$97 B</td>\n",
       "      <td>United States</td>\n",
       "      <td>Facebook</td>\n",
       "      <td>Technology</td>\n",
       "    </tr>\n",
       "    <tr>\n",
       "      <th>...</th>\n",
       "      <td>...</td>\n",
       "      <td>...</td>\n",
       "      <td>...</td>\n",
       "      <td>...</td>\n",
       "      <td>...</td>\n",
       "      <td>...</td>\n",
       "      <td>...</td>\n",
       "    </tr>\n",
       "    <tr>\n",
       "      <th>195</th>\n",
       "      <td>195.</td>\n",
       "      <td>Harry Triguboff</td>\n",
       "      <td>88</td>\n",
       "      <td>$11.2 B</td>\n",
       "      <td>Australia</td>\n",
       "      <td>real estate</td>\n",
       "      <td>Real Estate</td>\n",
       "    </tr>\n",
       "    <tr>\n",
       "      <th>196</th>\n",
       "      <td>197.</td>\n",
       "      <td>Leonid Fedun &amp; family</td>\n",
       "      <td>65</td>\n",
       "      <td>$11.1 B</td>\n",
       "      <td>Russia</td>\n",
       "      <td>oil</td>\n",
       "      <td>Energy</td>\n",
       "    </tr>\n",
       "    <tr>\n",
       "      <th>197</th>\n",
       "      <td>197.</td>\n",
       "      <td>Eyal Ofer</td>\n",
       "      <td>70</td>\n",
       "      <td>$11.1 B</td>\n",
       "      <td>Israel</td>\n",
       "      <td>real estate, shipping</td>\n",
       "      <td>Diversified</td>\n",
       "    </tr>\n",
       "    <tr>\n",
       "      <th>198</th>\n",
       "      <td>197.</td>\n",
       "      <td>Evan Spiegel</td>\n",
       "      <td>30</td>\n",
       "      <td>$11.1 B</td>\n",
       "      <td>United States</td>\n",
       "      <td>Snapchat</td>\n",
       "      <td>Technology</td>\n",
       "    </tr>\n",
       "    <tr>\n",
       "      <th>199</th>\n",
       "      <td>200.</td>\n",
       "      <td>Luis Carlos Sarmiento</td>\n",
       "      <td>88</td>\n",
       "      <td>$11 B</td>\n",
       "      <td>Colombia</td>\n",
       "      <td>banking</td>\n",
       "      <td>Finance &amp; Investments</td>\n",
       "    </tr>\n",
       "  </tbody>\n",
       "</table>\n",
       "<p>200 rows × 7 columns</p>\n",
       "</div>"
      ],
      "text/plain": [
       "     Rank                      Name Age Net_worth    Citizenship  \\\n",
       "0      1.                Jeff Bezos  57    $177 B  United States   \n",
       "1      2.                 Elon Musk  49    $151 B  United States   \n",
       "2      3.  Bernard Arnault & family  72    $150 B         France   \n",
       "3      4.                Bill Gates  65    $124 B  United States   \n",
       "4      5.           Mark Zuckerberg  36     $97 B  United States   \n",
       "..    ...                       ...  ..       ...            ...   \n",
       "195  195.           Harry Triguboff  88   $11.2 B      Australia   \n",
       "196  197.     Leonid Fedun & family  65   $11.1 B         Russia   \n",
       "197  197.                 Eyal Ofer  70   $11.1 B         Israel   \n",
       "198  197.              Evan Spiegel  30   $11.1 B  United States   \n",
       "199  200.     Luis Carlos Sarmiento  88     $11 B       Colombia   \n",
       "\n",
       "                    Source               Industry  \n",
       "0                   Amazon             Technology  \n",
       "1            Tesla, SpaceX             Automotive  \n",
       "2                     LVMH       Fashion & Retail  \n",
       "3                Microsoft             Technology  \n",
       "4                 Facebook             Technology  \n",
       "..                     ...                    ...  \n",
       "195            real estate            Real Estate  \n",
       "196                    oil                 Energy  \n",
       "197  real estate, shipping            Diversified  \n",
       "198               Snapchat             Technology  \n",
       "199                banking  Finance & Investments  \n",
       "\n",
       "[200 rows x 7 columns]"
      ]
     },
     "execution_count": 137,
     "metadata": {},
     "output_type": "execute_result"
    }
   ],
   "source": [
    "Rank = [] # Empty list to store the rank\n",
    "Name = [] # Empty list to store the name\n",
    "Age = [] # Empty list to store the Age\n",
    "Net_worth = [] # Empty list to store the Net Worth\n",
    "Source = [] # Empty list to store the Source\n",
    "Industry = [] # Empty list to store the Industry\n",
    "Citizenship = [] # Empty list to store the Citizenship\n",
    "\n",
    "rank = driver.find_elements_by_xpath('//div[@class = \"rank\"]')\n",
    "for i in rank:\n",
    "    Rank.append(i.text)\n",
    "name = driver.find_elements_by_xpath('//div[@class = \"personName\"]')\n",
    "for i in name:\n",
    "    Name.append(i.text)\n",
    "age = driver.find_elements_by_xpath('//div[@class = \"age\"]')\n",
    "for i in age:\n",
    "    Age.append(i.text)\n",
    "citizen = driver.find_elements_by_xpath('//div[@class = \"countryOfCitizenship\"]')\n",
    "for i in citizen:\n",
    "    Citizenship.append(i.text)\n",
    "source = driver.find_elements_by_xpath('//div[@class = \"source-column\"]')\n",
    "for i in source:\n",
    "    Source.append(i.text)\n",
    "industry = driver.find_elements_by_xpath('//div[@class = \"category\"]')\n",
    "for i in industry:\n",
    "    Industry.append(i.text)\n",
    "worth = driver.find_elements_by_xpath('//div[@class = \"netWorth\"]')\n",
    "for i in worth:\n",
    "    Net_worth.append(i.text)\n",
    "    \n",
    "# Create and Display dataframe\n",
    "    df=pd.DataFrame({'Rank':Rank,\n",
    "                 'Name' : Name,\n",
    "                 'Age' :Age,\n",
    "                 'Net_worth' : Net_worth,\n",
    "                 'Citizenship':Citizenship,\n",
    "                 'Source':Source,\n",
    "                 'Industry':Industry})\n",
    "df"
   ]
  },
  {
   "cell_type": "markdown",
   "metadata": {},
   "source": [
    "10. Write a python program to scrape a data for all available Hostels from \n",
    "https://www.hostelworld.com/ in “London” location. You have to scrape hostel name, \n",
    "distance from city centre, ratings, total reviews, overall reviews, privates from price, dorms \n",
    "from price, facilities and property description. "
   ]
  },
  {
   "cell_type": "code",
   "execution_count": 177,
   "metadata": {},
   "outputs": [],
   "source": [
    "url = \"https://www.hostelworld.com/\" # assign web address to our variable\n",
    "driver.get(url) #get webpage"
   ]
  },
  {
   "cell_type": "code",
   "execution_count": 178,
   "metadata": {},
   "outputs": [],
   "source": [
    "search_field=driver.find_element_by_id(\"location-text-input-field\") # finding web_element for search job\n",
    "search_field.send_keys(\"London\")\n",
    "region = driver.find_element_by_id(\"predicted-search-results\")\n",
    "region.click()\n",
    "#search_field_designation.send_keys(\"Data Analyst\")"
   ]
  },
  {
   "cell_type": "code",
   "execution_count": 179,
   "metadata": {},
   "outputs": [],
   "source": [
    "search_button=driver.find_element_by_id(\"search-button\")\n",
    "search_button.click()\n"
   ]
  },
  {
   "cell_type": "code",
   "execution_count": 181,
   "metadata": {},
   "outputs": [],
   "source": [
    "URL = []\n",
    "url = driver.find_elements_by_xpath('//h2[@class = \"title title-6\"]//a')\n",
    "for i in url:\n",
    "    URL.append(i.get_attribute('href'))"
   ]
  },
  {
   "cell_type": "code",
   "execution_count": 189,
   "metadata": {},
   "outputs": [],
   "source": [
    "Name = []\n",
    "for i in URL:\n",
    "    driver.get(i)\n",
    "    try:\n",
    "        name = driver.find_element_by_xpath('//div[@class = \"title-2\"]')\n",
    "        Name.append(name.text)\n",
    "    except NoSuchElementException:\n",
    "        Name.append('-')\n",
    "    "
   ]
  },
  {
   "cell_type": "code",
   "execution_count": 190,
   "metadata": {},
   "outputs": [
    {
     "data": {
      "text/plain": [
       "['Thira Shimla', 'Abuzz OC', 'Jungle Stays']"
      ]
     },
     "execution_count": 190,
     "metadata": {},
     "output_type": "execute_result"
    }
   ],
   "source": [
    "Name"
   ]
  },
  {
   "cell_type": "code",
   "execution_count": null,
   "metadata": {},
   "outputs": [],
   "source": [
    "Distance = []\n",
    "for i in URL:\n",
    "    driver.get(i)\n",
    "    try:\n",
    "        dfc = driver.find_element_by_xpath('//div[@class = \"title-2\"]')\n",
    "        Name.append(name.text)\n",
    "    except NoSuchElementException:\n",
    "        Name.append('-')"
   ]
  }
 ],
 "metadata": {
  "kernelspec": {
   "display_name": "Python 3",
   "language": "python",
   "name": "python3"
  },
  "language_info": {
   "codemirror_mode": {
    "name": "ipython",
    "version": 3
   },
   "file_extension": ".py",
   "mimetype": "text/x-python",
   "name": "python",
   "nbconvert_exporter": "python",
   "pygments_lexer": "ipython3",
   "version": "3.8.5"
  }
 },
 "nbformat": 4,
 "nbformat_minor": 4
}
